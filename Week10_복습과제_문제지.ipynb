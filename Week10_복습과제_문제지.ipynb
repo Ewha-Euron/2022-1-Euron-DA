{
 "cells": [
  {
   "cell_type": "markdown",
   "metadata": {
    "id": "wOOD0DfHodt9"
   },
   "source": [
    "# 1. CustomerData로 K-means clustering 실습\n",
    "### 제품 포트폴리오와 지역의 관계를 알아보자\n",
    "\n",
    "(* 제품 포트폴리오: 회사가 생산하는 품목군을 나타내는 둘 이상의 제품 그룹)"
   ]
  },
  {
   "cell_type": "markdown",
   "metadata": {
    "id": "_qUW9CAfodt-"
   },
   "source": [
    "CustomerData.xls\n",
    "- Customer ID: 고객 ID로 각 고객을 구분해주는 유니크한 값\n",
    "- ItemsBought: 팔린 개수 \n",
    "- ItemsReturned: 환불 발생 개수\n",
    "- ZipCode: 지역 코드\n",
    "- Product: 물품 고유 번호"
   ]
  },
  {
   "cell_type": "code",
   "execution_count": null,
   "metadata": {
    "id": "CreC6VjRodt-"
   },
   "outputs": [],
   "source": [
    "#공통 모듈\n",
    "import pandas as pd\n",
    "import numpy as np\n",
    "import matplotlib as mpl\n",
    "import matplotlib.pyplot as plt\n",
    "import matplotlib.cm as cm \n",
    "import seaborn as sns\n",
    "\n",
    "%matplotlib inline"
   ]
  },
  {
   "cell_type": "markdown",
   "metadata": {
    "id": "SzZObfzxodt-"
   },
   "source": [
    "#### 1-1. 'CustomerData.csv'를 읽어와 cd에 저장하시오."
   ]
  },
  {
   "cell_type": "code",
   "execution_count": null,
   "metadata": {
    "id": "KryZOIRuodt_"
   },
   "outputs": [],
   "source": []
  },
  {
   "cell_type": "markdown",
   "metadata": {
    "id": "q1BB3Uq3oduA"
   },
   "source": [
    "#### 1-2. HR 데이터의 상위 5개의 행과 하위 5개의 행을 통해 데이터가 제대로 불러와 졌는지 확인하시오."
   ]
  },
  {
   "cell_type": "code",
   "execution_count": null,
   "metadata": {
    "id": "ygL0G9NgoduA"
   },
   "outputs": [],
   "source": []
  },
  {
   "cell_type": "code",
   "execution_count": null,
   "metadata": {
    "id": "x0woXT9woduA"
   },
   "outputs": [],
   "source": []
  },
  {
   "cell_type": "markdown",
   "metadata": {
    "id": "IAtpv7gqoduB"
   },
   "source": [
    "#### 1-3. ItemsBought과 ItemsReturned의 특정 단위를 같게하는 데이터 정규화작업을 진행하시오.\n",
    "- 데이터분석 시 원본 데이터는 변형하지 않는 것이 좋다. 따라서, 전처리는 원본 데이터를 복사하여 생성한 데이터로 진행하라.(이름은 자유롭게 지정)   \n",
    "- MinMaxScaler()를 이용해 정규화를 진행한다.\n",
    "- 정규화 과정에 쓰이는 MinMaxScaler()는 사이킷런의 preprocessing 패키지에 있다."
   ]
  },
  {
   "cell_type": "code",
   "execution_count": null,
   "metadata": {
    "id": "dFayuxIhoduB"
   },
   "outputs": [],
   "source": [
    "# 정규화 작업을 위한 패키지 불러오기\n",
    "from sklearn import preprocessing"
   ]
  },
  {
   "cell_type": "code",
   "execution_count": null,
   "metadata": {
    "id": "gy6QxWsBoduB"
   },
   "outputs": [],
   "source": [
    "# 원본 데이터 복사 후 전처리 진행\n",
    "cd_copy = cd.copy()"
   ]
  },
  {
   "cell_type": "code",
   "execution_count": null,
   "metadata": {
    "id": "Yh7fAvDhoduB"
   },
   "outputs": [],
   "source": [
    "# 전처리 - 정규화(:fit_transform)\n"
   ]
  },
  {
   "cell_type": "markdown",
   "metadata": {
    "id": "0ayJ3J8qjVoz"
   },
   "source": [
    "##### 뒤에서 사용하기 위해 전처리한 데이터를 cd_copy2에 복사하시오."
   ]
  },
  {
   "cell_type": "code",
   "execution_count": null,
   "metadata": {
    "id": "TGGr4BjLjhwX"
   },
   "outputs": [],
   "source": [
    "# 전처리된 데이터 복사 \n",
    "cd_copy2 = cd_copy.copy()"
   ]
  },
  {
   "cell_type": "markdown",
   "metadata": {
    "id": "8Te4N2txoduC"
   },
   "source": [
    "#### 1-4.  사이킷런의 KMeans를 활용하여 위의 데이터를 fit 하시오.   \n",
    "n_clusters=3, init='k-means++', max_iter=300,random_state=0"
   ]
  },
  {
   "cell_type": "code",
   "execution_count": null,
   "metadata": {
    "id": "INb2ZoEboduD"
   },
   "outputs": [],
   "source": []
  },
  {
   "cell_type": "markdown",
   "metadata": {
    "id": "ruQxiOAboduD"
   },
   "source": [
    "#### 1-5. visualize_silhouette() 함수를 활용해 실루엣 계수를 시각화하고, k가 2, 3, 4, 5, 6일 때, 군집화를 가장 잘 나타내는 k값을 선택하고, 이유를 설명하시오."
   ]
  },
  {
   "cell_type": "code",
   "execution_count": null,
   "metadata": {
    "id": "tm7xudmAoduD"
   },
   "outputs": [],
   "source": []
  },
  {
   "cell_type": "code",
   "execution_count": null,
   "metadata": {
    "id": "I0KuzBcCoduE"
   },
   "outputs": [],
   "source": []
  },
  {
   "cell_type": "markdown",
   "metadata": {
    "id": "gbl0VI-BoduF"
   },
   "source": [
    "#### 1-6. 위에서 선택한 k값으로 다시 피팅하고, 군집별 평균 실루엣 계수 값을 구하시오.  "
   ]
  },
  {
   "cell_type": "code",
   "execution_count": null,
   "metadata": {
    "id": "pqdJpHQtoduF"
   },
   "outputs": [],
   "source": []
  },
  {
   "cell_type": "markdown",
   "metadata": {
    "id": "B05HUZlooduI"
   },
   "source": [
    "##### 1) cd_copy에 cluster 결과 칼럼 추가하시오"
   ]
  },
  {
   "cell_type": "code",
   "execution_count": null,
   "metadata": {
    "id": "x4Ar1fbYoduI"
   },
   "outputs": [],
   "source": []
  },
  {
   "cell_type": "markdown",
   "metadata": {
    "id": "M_Hvt077oduI"
   },
   "source": [
    "##### 2) 개별 데이터의 실루엣 계수 값을 구한 후, cd_copy에 실루엣 계수 컬럼 추가하시오"
   ]
  },
  {
   "cell_type": "code",
   "execution_count": null,
   "metadata": {
    "id": "CpeQfRfyoduJ"
   },
   "outputs": [],
   "source": []
  },
  {
   "cell_type": "code",
   "execution_count": null,
   "metadata": {
    "id": "5SJBrfDPoduJ"
   },
   "outputs": [],
   "source": []
  },
  {
   "cell_type": "code",
   "execution_count": null,
   "metadata": {
    "id": "4UT5oiXToduJ"
   },
   "outputs": [],
   "source": []
  },
  {
   "cell_type": "markdown",
   "metadata": {
    "id": "XsgDucTPoduJ"
   },
   "source": [
    "##### 3) 모든 데이터의 평균 실루엣 계수 값 구하시오"
   ]
  },
  {
   "cell_type": "code",
   "execution_count": null,
   "metadata": {
    "id": "3Wz-RYDAoduK"
   },
   "outputs": [],
   "source": []
  },
  {
   "cell_type": "markdown",
   "metadata": {
    "id": "g-IBtPnGoduK"
   },
   "source": [
    "##### 4) 군집별 평균 실루엣 계수 값을 구하시오"
   ]
  },
  {
   "cell_type": "code",
   "execution_count": null,
   "metadata": {
    "id": "i19sKP8ioduL"
   },
   "outputs": [],
   "source": []
  },
  {
   "cell_type": "markdown",
   "metadata": {
    "id": "9ghQok92i1rB"
   },
   "source": [
    "#### 1-7. 사이킷런의 MeanShift를 활용하여 위에서 복사한 cd_copy2 데이터를 fit 하시오.   \n",
    "bandwidth=0.8"
   ]
  },
  {
   "cell_type": "code",
   "execution_count": null,
   "metadata": {
    "id": "quhjSBM-oduM"
   },
   "outputs": [],
   "source": []
  },
  {
   "cell_type": "markdown",
   "metadata": {
    "id": "9eqe3ldrktdw"
   },
   "source": [
    "#### 1-8. estimate_bandwidth()를 사용해 최적의 bandwidth 값을 구하시오."
   ]
  },
  {
   "cell_type": "code",
   "execution_count": null,
   "metadata": {
    "id": "9ViQYm7RksyQ"
   },
   "outputs": [],
   "source": []
  },
  {
   "cell_type": "markdown",
   "metadata": {
    "id": "mLQOjqTal0Dk"
   },
   "source": [
    "#### 1-9. 최적의 bandwidth를 평균 이동 입력값으로 적용해 다시 fit하고, cluster labels 유형을 확인하시오."
   ]
  },
  {
   "cell_type": "code",
   "execution_count": null,
   "metadata": {
    "id": "ay84g2nFk6Hy"
   },
   "outputs": [],
   "source": []
  },
  {
   "cell_type": "markdown",
   "metadata": {
    "id": "VIBX5Mm4jGId"
   },
   "source": [
    "# 2. Supermarket Customer Data를 활용한 DBSCAN 실습\n",
    "Mall_Customers.csv 데이터\n",
    "\n",
    "- Customer ID\n",
    "- Age\n",
    "- Genre: 고객 성별 (Gender) \n",
    "- Annual income (k$) \n",
    "- Spending score(1-100) : assigned based on parameters like customer behavior and purchasing data"
   ]
  },
  {
   "cell_type": "markdown",
   "metadata": {
    "id": "yaqk7dAEjKVO"
   },
   "source": [
    "#### 2-1. 'Mall_Customers.csv' 데이터를 불러와 df에 저장하시오."
   ]
  },
  {
   "cell_type": "code",
   "execution_count": null,
   "metadata": {
    "id": "-gArJ0VjgB0E"
   },
   "outputs": [],
   "source": [
    "df = pd.read_csv('Mall_Customers.csv')"
   ]
  },
  {
   "cell_type": "markdown",
   "metadata": {
    "id": "mDfOUP-rjN5M"
   },
   "source": [
    "#### 2-2. df의 처음 다섯개 행을 확인하시오."
   ]
  },
  {
   "cell_type": "code",
   "execution_count": null,
   "metadata": {
    "id": "uqPjJPwojOLv"
   },
   "outputs": [],
   "source": []
  },
  {
   "cell_type": "markdown",
   "metadata": {
    "id": "GgyB2LJWjQC_"
   },
   "source": [
    "#### 2-3. info() 함수를 이용해 데이터프레임의 기본 정보를 확인하시오."
   ]
  },
  {
   "cell_type": "code",
   "execution_count": null,
   "metadata": {
    "id": "sqyp3vjMjR8-"
   },
   "outputs": [],
   "source": []
  },
  {
   "cell_type": "markdown",
   "metadata": {
    "id": "Got2FzSYjU4W"
   },
   "source": [
    "#### 2-4.describe() 함수를 이용해 df의 정보를 확인하시오."
   ]
  },
  {
   "cell_type": "code",
   "execution_count": null,
   "metadata": {
    "id": "fUoO4KScjVTr"
   },
   "outputs": [],
   "source": []
  },
  {
   "cell_type": "markdown",
   "metadata": {
    "id": "RiJT2rtcjYov"
   },
   "source": [
    "##### 2-5. 칼럼의 이름을 rename 함수를 활용하여 바꾸시오.\n",
    "\n",
    "Annual Income (k$) 는 Annual Income 으로, Spending Score(1-100)은 Spending Capability로 바꾸시오. \n",
    "\n",
    "바꾼 뒤, head()함수를 활용하여 확인하시오."
   ]
  },
  {
   "cell_type": "code",
   "execution_count": null,
   "metadata": {
    "id": "9sC2EcbLjY-I"
   },
   "outputs": [],
   "source": []
  },
  {
   "cell_type": "code",
   "execution_count": null,
   "metadata": {
    "id": "AsWQa6Z-jb1S"
   },
   "outputs": [],
   "source": []
  },
  {
   "cell_type": "markdown",
   "metadata": {
    "id": "I-u_8tzmjhsr"
   },
   "source": [
    "#### 2-6. 아래의 코드를 돌려서 데이터 분포를 확인하시오."
   ]
  },
  {
   "cell_type": "code",
   "execution_count": null,
   "metadata": {
    "id": "hHWQUdFJji5n"
   },
   "outputs": [],
   "source": [
    "sns.pairplot(df)"
   ]
  },
  {
   "cell_type": "markdown",
   "metadata": {
    "id": "2WfDqxDfjkec"
   },
   "source": [
    "#### 2-7. CustomerID 칼럼을 삭제한 뒤 확인하시오."
   ]
  },
  {
   "cell_type": "code",
   "execution_count": null,
   "metadata": {
    "id": "kzPzGXm1jl7f"
   },
   "outputs": [],
   "source": []
  },
  {
   "cell_type": "markdown",
   "metadata": {
    "id": "NX11T0ehjnzT"
   },
   "source": [
    "#### 2-8. iloc()함수를 사용하여 변수 x에 Annual Income 과 Speding Capability를 담으시오."
   ]
  },
  {
   "cell_type": "code",
   "execution_count": null,
   "metadata": {
    "id": "zp-lzc4vjoix"
   },
   "outputs": [],
   "source": []
  },
  {
   "cell_type": "markdown",
   "metadata": {
    "id": "0bnk3hIUjrRH"
   },
   "source": [
    "#### 2-9. 다음의 코드를 돌려, (200,2)가 출력되는지 확인하시오."
   ]
  },
  {
   "cell_type": "code",
   "execution_count": null,
   "metadata": {
    "id": "yxDcqWxBjsrE"
   },
   "outputs": [],
   "source": [
    "x.shape"
   ]
  },
  {
   "cell_type": "markdown",
   "metadata": {
    "id": "B854nVJ3jufv"
   },
   "source": [
    "#### 2-10. 사이킷런의 DBSCAN을 활용하여 x를 fit하시오.\n",
    "\n",
    "- eps=3\n",
    "- min_samples=4\n",
    "- metric='euclidean'"
   ]
  },
  {
   "cell_type": "code",
   "execution_count": null,
   "metadata": {
    "id": "Qmy7S6SHjweW"
   },
   "outputs": [],
   "source": []
  },
  {
   "cell_type": "code",
   "execution_count": null,
   "metadata": {
    "id": "U7EEgZ4Qjy3i"
   },
   "outputs": [],
   "source": []
  },
  {
   "cell_type": "markdown",
   "metadata": {
    "id": "DGSCRknlj0g9"
   },
   "source": [
    "#### 2-11.labels_을 출력하여 확인하시오."
   ]
  },
  {
   "cell_type": "code",
   "execution_count": null,
   "metadata": {
    "id": "eE9ll5GYj2B-"
   },
   "outputs": [],
   "source": []
  },
  {
   "cell_type": "markdown",
   "metadata": {
    "id": "6OiWPZoqjnxo"
   },
   "source": [
    "#### 2-12. 다음의 코드를 실행하여 DBSCAN의 결과를 확인하시오."
   ]
  },
  {
   "cell_type": "code",
   "execution_count": null,
   "metadata": {
    "id": "jsF8uPSEkBwN"
   },
   "outputs": [],
   "source": [
    "y_means = db.fit_predict(x)\n",
    "plt.figure(figsize=(7,5))\n",
    "plt.scatter(x[y_means == 0,0], x[y_means == 0,1], s= 50, c= 'pink')\n",
    "plt.scatter(x[y_means == 1,0], x[y_means == 1,1], s= 50, c= 'yellow')\n",
    "plt.scatter(x[y_means == 2,0], x[y_means == 2,1], s= 50, c= 'cyan')\n",
    "plt.scatter(x[y_means == 3,0], x[y_means == 3,1], s= 50, c= 'magenta')\n",
    "plt.scatter(x[y_means == 4,0], x[y_means == 4,1], s= 50, c= 'orange')\n",
    "plt.scatter(x[y_means == 5,0], x[y_means == 5,1], s= 50, c= 'blue')\n",
    "plt.scatter(x[y_means == 6,0], x[y_means == 6,1], s= 50, c= 'red')\n",
    "plt.scatter(x[y_means == 7,0], x[y_means == 7,1], s= 50, c= 'black')\n",
    "plt.scatter(x[y_means == 8,0], x[y_means == 8,1], s= 50, c= 'violet')\n",
    "plt.xlabel('Annual Income in (1k)')\n",
    "plt.ylabel('Spending score from 1-100')\n",
    "plt.title('Clusters of data')\n",
    "plt.show()"
   ]
  },
  {
   "cell_type": "markdown",
   "metadata": {
    "id": "HME8g1wzkVU1"
   },
   "source": [
    "# 3 make_circles( )로 DBSCAN 적용하기 "
   ]
  },
  {
   "cell_type": "markdown",
   "metadata": {
    "id": "XyawxCbOmPW0"
   },
   "source": [
    "#### 3-1.아래 함수를 실행하시오<br/>클러스터 결과를 담은 DataFrame과 사이킷런의 Cluster 객체등을 인자로 받아 클러스터링 결과를 시각화하는 함수 "
   ]
  },
  {
   "cell_type": "code",
   "execution_count": null,
   "metadata": {
    "id": "e8PyrQWvloB0"
   },
   "outputs": [],
   "source": [
    "def visualize_cluster_plot(clusterobj, dataframe, label_name, iscenter=True):\n",
    "    if iscenter :\n",
    "        centers = clusterobj.cluster_centers_\n",
    "        \n",
    "    unique_labels = np.unique(dataframe[label_name].values)\n",
    "    markers=['o', 's', '^', 'x', '*']\n",
    "    isNoise=False\n",
    "\n",
    "    for label in unique_labels:\n",
    "        label_cluster = dataframe[dataframe[label_name]==label]\n",
    "        if label == -1:\n",
    "            cluster_legend = 'Noise'\n",
    "            isNoise=True\n",
    "        else :\n",
    "            cluster_legend = 'Cluster '+str(label)\n",
    "        \n",
    "        plt.scatter(x=label_cluster['ftr1'], y=label_cluster['ftr2'], s=70,\\\n",
    "                    edgecolor='k', marker=markers[label], label=cluster_legend)\n",
    "        \n",
    "        if iscenter:\n",
    "            center_x_y = centers[label]\n",
    "            plt.scatter(x=center_x_y[0], y=center_x_y[1], s=250, color='white',\n",
    "                        alpha=0.9, edgecolor='k', marker=markers[label])\n",
    "            plt.scatter(x=center_x_y[0], y=center_x_y[1], s=70, color='k',\\\n",
    "                        edgecolor='k', marker='$%d$' % label)\n",
    "    if isNoise:\n",
    "        legend_loc='upper center'\n",
    "    else: legend_loc='upper right'\n",
    "    \n",
    "    plt.legend(loc=legend_loc)\n",
    "    plt.show()"
   ]
  },
  {
   "cell_type": "markdown",
   "metadata": {
    "id": "yx8u7KgrmcE3"
   },
   "source": [
    "#### 3-2.make_circles( ) 함수를 이용해 내부 원과 외부 원 형태로 된 2차원 데이터 세트를 생성하시오(n_samples=1000, noise=0.03, factor=0.5)"
   ]
  },
  {
   "cell_type": "code",
   "execution_count": null,
   "metadata": {
    "id": "K8v1JyqykVpy"
   },
   "outputs": [],
   "source": [
    "\n"
   ]
  },
  {
   "cell_type": "markdown",
   "metadata": {
    "id": "ij_sZL3Vmyp_"
   },
   "source": [
    "#### 3-3 KMeans로 make_circles() 데이터 셋을 클러스터링 수행하시오(n_cluster=2, random_state=0)"
   ]
  },
  {
   "cell_type": "code",
   "execution_count": null,
   "metadata": {
    "id": "zokubKKTltUt"
   },
   "outputs": [],
   "source": []
  },
  {
   "cell_type": "markdown",
   "metadata": {
    "id": "M-Os-P-_nCa0"
   },
   "source": [
    "#### 3-4 GMM로 make_circles() 데이터 셋을 클러스터링 수행하시오(n_components=2, random_state=0)"
   ]
  },
  {
   "cell_type": "code",
   "execution_count": null,
   "metadata": {
    "id": "NMvk_zh0lxMH"
   },
   "outputs": [],
   "source": []
  },
  {
   "cell_type": "markdown",
   "metadata": {
    "id": "cbCrPPuZnJsI"
   },
   "source": [
    "#### 3-5 DBSCAN로 make_circles() 데이터 셋을 클러스터링 수행하시오"
   ]
  },
  {
   "cell_type": "code",
   "execution_count": null,
   "metadata": {
    "id": "7Z0lxEbul14y"
   },
   "outputs": [],
   "source": []
  },
  {
   "cell_type": "markdown",
   "metadata": {},
   "source": [
    "## 4. 베이즈가우시안 혼합 모델 실습\n",
    "- 2번에서 사용한 데이터 사용"
   ]
  },
  {
   "cell_type": "markdown",
   "metadata": {},
   "source": [
    "#### 4-1. x를 clusterDF 데이터프레임으로 저장하시오.\n",
    "- columns=['ftr1', 'ftr2'] (교재 코드 참고)"
   ]
  },
  {
   "cell_type": "code",
   "execution_count": null,
   "metadata": {},
   "outputs": [],
   "source": []
  },
  {
   "cell_type": "markdown",
   "metadata": {},
   "source": [
    "#### 4-2. 사이킷런의 베이즈가우시안 혼합 모델을 활용하여 x를 fit하시오.\n",
    "- n_components=20, random_state=33"
   ]
  },
  {
   "cell_type": "code",
   "execution_count": null,
   "metadata": {},
   "outputs": [],
   "source": []
  },
  {
   "cell_type": "markdown",
   "metadata": {},
   "source": [
    "#### 4-3. 불필요한 클러스터의 가중치를 0으로 잘 처리했는지 확인하시오."
   ]
  },
  {
   "cell_type": "code",
   "execution_count": null,
   "metadata": {},
   "outputs": [],
   "source": []
  },
  {
   "cell_type": "markdown",
   "metadata": {},
   "source": [
    "#### 4-4. 다음의 코드를 실행하여 visualize_cluster_plot 함수를 만들고 군집화 결과를 시각화하시오.\n",
    "- fit 결과를 clusterDF에 'bgm_label'로 추가"
   ]
  },
  {
   "cell_type": "code",
   "execution_count": null,
   "metadata": {},
   "outputs": [],
   "source": [
    "def visualize_cluster_plot(clusterobj, dataframe, label_name, iscenter=True):\n",
    "    if iscenter :\n",
    "        centers = clusterobj.cluster_centers_\n",
    "        \n",
    "    unique_labels = np.unique(dataframe[label_name].values)\n",
    "    markers=['o', '.', ',', 'x', '+', 'v', '^', '<', '>', 's', 'd', '8', 'D']\n",
    "    isNoise=False\n",
    "\n",
    "    for label in unique_labels:\n",
    "        label_cluster = dataframe[dataframe[label_name]==label]\n",
    "        if label == -1:\n",
    "            cluster_legend = 'Noise'\n",
    "            isNoise=True\n",
    "        else :\n",
    "            cluster_legend = 'Cluster '+str(label)\n",
    "        \n",
    "        plt.scatter(x=label_cluster['ftr1'], y=label_cluster['ftr2'], s=70,\\\n",
    "                    edgecolor='k', marker=markers[label], label=cluster_legend)\n",
    "        \n",
    "        if iscenter:\n",
    "            center_x_y = centers[label]\n",
    "            plt.scatter(x=center_x_y[0], y=center_x_y[1], s=250, color='white',\n",
    "                        alpha=0.9, edgecolor='k', marker=markers[label])\n",
    "            plt.scatter(x=center_x_y[0], y=center_x_y[1], s=70, color='k',\\\n",
    "                        edgecolor='k', marker='$%d$' % label)\n",
    "    if isNoise:\n",
    "        legend_loc='upper center'\n",
    "    else: legend_loc='upper right'\n",
    "    \n",
    "    plt.legend(loc=legend_loc)\n",
    "    plt.show()"
   ]
  },
  {
   "cell_type": "code",
   "execution_count": null,
   "metadata": {},
   "outputs": [],
   "source": []
  },
  {
   "cell_type": "markdown",
   "metadata": {
    "id": "d1z6VER8iLPa"
   },
   "source": [
    "## 5. 가우시안 혼합모델 실습\n",
    "- 올리베티 얼굴 데이터셋: 사람 40명의 얼굴 이미지 데이터 (인당 10장씩)"
   ]
  },
  {
   "cell_type": "code",
   "execution_count": null,
   "metadata": {
    "id": "81X81yDqiLPh",
    "outputId": "485ff3ef-7305-427a-bbc1-16e42f157111"
   },
   "outputs": [
    {
     "name": "stdout",
     "output_type": "stream",
     "text": [
      "downloading Olivetti faces from https://ndownloader.figshare.com/files/5976027 to C:\\Users\\lovel\\scikit_learn_data\n"
     ]
    }
   ],
   "source": [
    "#돌려주시면 됩니다!\n",
    "\n",
    "#데이터셋 불러오기\n",
    "from sklearn.datasets import fetch_olivetti_faces\n",
    "olivetti = fetch_olivetti_faces()\n",
    "\n",
    "%matplotlib inline\n",
    "import matplotlib.pyplot as plt\n",
    "import seaborn as sns; sns.set()\n",
    "import numpy as np\n",
    "\n",
    "#계층적 샘플링으로 데이터 나누기\n",
    "from sklearn.model_selection import StratifiedShuffleSplit\n",
    "\n",
    "strat_split = StratifiedShuffleSplit(n_splits=1, test_size=40, random_state=42)\n",
    "train_valid_idx, test_idx = next(strat_split.split(olivetti.data, olivetti.target))\n",
    "X_train_valid = olivetti.data[train_valid_idx]\n",
    "y_train_valid = olivetti.target[train_valid_idx]\n",
    "X_test = olivetti.data[test_idx]\n",
    "y_test = olivetti.target[test_idx]\n",
    "\n",
    "strat_split = StratifiedShuffleSplit(n_splits=1, test_size=80, random_state=43)\n",
    "train_idx, valid_idx = next(strat_split.split(X_train_valid, y_train_valid))\n",
    "X_train = X_train_valid[train_idx]\n",
    "y_train = y_train_valid[train_idx]\n",
    "X_valid = X_train_valid[valid_idx]\n",
    "y_valid = y_train_valid[valid_idx]"
   ]
  },
  {
   "cell_type": "markdown",
   "metadata": {
    "id": "5uUpCgtWiLPk"
   },
   "source": [
    "#### 5-1. pca 모듈로 X_train 분산을 99% 로 줄여주세요."
   ]
  },
  {
   "cell_type": "code",
   "execution_count": null,
   "metadata": {},
   "outputs": [],
   "source": []
  },
  {
   "cell_type": "markdown",
   "metadata": {
    "id": "LhXNQJ_qiLPm"
   },
   "source": [
    "#### 5-2. AIC, BIC 점수를 비교해 사이킷런의 GaussianMixture 모듈의 최적의 클러스터 개수를 찾아보겠습니다.\n",
    "- n_component를 1부터 15까지로 하여 각 클러스터 개수별 AIC, BIC 점수를 구하고 이를 plot으로 나타내세요.\n",
    "- random_state=33"
   ]
  },
  {
   "cell_type": "code",
   "execution_count": null,
   "metadata": {},
   "outputs": [],
   "source": []
  },
  {
   "cell_type": "markdown",
   "metadata": {
    "id": "1FlguGt2iLPn"
   },
   "source": [
    "#### 5-3. 최적 n_component 값을 넣어 gmm을 fit 시키고 알고리즘이 수렴했는지 확인해보세요."
   ]
  },
  {
   "cell_type": "code",
   "execution_count": null,
   "metadata": {},
   "outputs": [],
   "source": []
  }
 ],
 "metadata": {
  "colab": {
   "collapsed_sections": [
    "yaqk7dAEjKVO",
    "mDfOUP-rjN5M",
    "GgyB2LJWjQC_",
    "Got2FzSYjU4W",
    "I-u_8tzmjhsr",
    "2WfDqxDfjkec",
    "NX11T0ehjnzT",
    "0bnk3hIUjrRH",
    "B854nVJ3jufv",
    "DGSCRknlj0g9",
    "6OiWPZoqjnxo",
    "XyawxCbOmPW0",
    "yx8u7KgrmcE3",
    "ij_sZL3Vmyp_",
    "M-Os-P-_nCa0",
    "cbCrPPuZnJsI",
    "5uUpCgtWiLPk",
    "LhXNQJ_qiLPm",
    "1FlguGt2iLPn",
    "vu3kDq2WiLPq",
    "ElaF4v82iLPr",
    "CkBfQJ5_iLPs",
    "XxZWPVSiiLPt",
    "lwTMuKf8iLPu",
    "aSI8zkNWiLPv",
    "KlzA9W9oiLPv",
    "QL3KizpwiLPw",
    "2ONBiFnjiLPw",
    "w3WRz68xiLPx",
    "hpi1BuP9iLPx",
    "N2uuLsqRiLPy"
   ],
   "name": "복습과제_문제지.ipynb",
   "provenance": []
  },
  "kernelspec": {
   "display_name": "Python 3",
   "language": "python",
   "name": "python3"
  },
  "language_info": {
   "codemirror_mode": {
    "name": "ipython",
    "version": 3
   },
   "file_extension": ".py",
   "mimetype": "text/x-python",
   "name": "python",
   "nbconvert_exporter": "python",
   "pygments_lexer": "ipython3",
   "version": "3.8.5"
  }
 },
 "nbformat": 4,
 "nbformat_minor": 1
}
