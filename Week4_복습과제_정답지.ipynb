{
 "cells": [
  {
   "cell_type": "markdown",
   "metadata": {
    "id": "9JDEQ7QLYqy9"
   },
   "source": [
    "# 와인 품질 분류"
   ]
  },
  {
   "cell_type": "markdown",
   "metadata": {
    "id": "N3fKt9upYqzA"
   },
   "source": [
    "wine_quality.csv 파일이 존재합니다.\n",
    "\n",
    "와인의 여러가지 화학 성분을 기반으로 와인의 품질을 분류해내는 것이 목표입니다.\n",
    "\n",
    "- index 구분자\n",
    "- quality 품질\n",
    "- fixed acidity 산도\n",
    "- volatile acidity 휘발성산\n",
    "- citric acid 시트르산\n",
    "- residual sugar 잔당 : 발효 후 와인 속에 남아있는 당분\n",
    "- chlorides 염화물\n",
    "- free sulfur dioxide 독립 이산화황\n",
    "- total sulfur dioxide 총 이산화황\n",
    "- density 밀도\n",
    "- pH 수소이온농도\n",
    "- sulphates 황산염\n",
    "- alcohol 도수\n",
    "- type 종류\n",
    "\n",
    "데이터셋 출처: https://dacon.io/competitions/open/235610/data\n",
    "\n",
    "(학습을 위해 원래 데이터셋에서 test.csv는 제외하고, train.csv 파일만을 고려하여 진행했습니다.)"
   ]
  },
  {
   "cell_type": "code",
   "execution_count": 1,
   "metadata": {
    "ExecuteTime": {
     "end_time": "2022-03-19T09:30:41.196273Z",
     "start_time": "2022-03-19T09:30:41.184347Z"
    },
    "id": "y5_rrHecYqzC"
   },
   "outputs": [],
   "source": [
    "#필요한 라이브러리 import\n",
    "import pandas as pd\n",
    "import numpy as np\n",
    "import seaborn as sns\n",
    "import matplotlib.pyplot as plt"
   ]
  },
  {
   "cell_type": "code",
   "execution_count": 2,
   "metadata": {
    "ExecuteTime": {
     "end_time": "2022-03-19T09:31:05.236964Z",
     "start_time": "2022-03-19T09:31:05.199974Z"
    },
    "id": "EMItHVOgYqzE"
   },
   "outputs": [],
   "source": [
    "#데이터셋 불러오기\n",
    "wine_data = pd.read_csv('wine_quality.csv')"
   ]
  },
  {
   "cell_type": "markdown",
   "metadata": {
    "id": "Ex_JS_GUYqzE"
   },
   "source": [
    "## 데이터 전처리, EDA 및 시각화"
   ]
  },
  {
   "cell_type": "markdown",
   "metadata": {
    "id": "DNtVEgliYqzE"
   },
   "source": [
    "### wine_data 데이터를 살펴보고, 쓸모 없는 column을 삭제하시오.(index column 삭제)"
   ]
  },
  {
   "cell_type": "code",
   "execution_count": 3,
   "metadata": {
    "ExecuteTime": {
     "end_time": "2022-03-19T09:31:24.617349Z",
     "start_time": "2022-03-19T09:31:24.581445Z"
    },
    "colab": {
     "base_uri": "https://localhost:8080/",
     "height": 305
    },
    "id": "33QI3hJ1YqzF",
    "outputId": "4e2b3603-9f75-43cc-8d54-ba185c64aec8"
   },
   "outputs": [
    {
     "data": {
      "text/html": [
       "<div>\n",
       "<style scoped>\n",
       "    .dataframe tbody tr th:only-of-type {\n",
       "        vertical-align: middle;\n",
       "    }\n",
       "\n",
       "    .dataframe tbody tr th {\n",
       "        vertical-align: top;\n",
       "    }\n",
       "\n",
       "    .dataframe thead th {\n",
       "        text-align: right;\n",
       "    }\n",
       "</style>\n",
       "<table border=\"1\" class=\"dataframe\">\n",
       "  <thead>\n",
       "    <tr style=\"text-align: right;\">\n",
       "      <th></th>\n",
       "      <th>index</th>\n",
       "      <th>quality</th>\n",
       "      <th>fixed acidity</th>\n",
       "      <th>volatile acidity</th>\n",
       "      <th>citric acid</th>\n",
       "      <th>residual sugar</th>\n",
       "      <th>chlorides</th>\n",
       "      <th>free sulfur dioxide</th>\n",
       "      <th>total sulfur dioxide</th>\n",
       "      <th>density</th>\n",
       "      <th>pH</th>\n",
       "      <th>sulphates</th>\n",
       "      <th>alcohol</th>\n",
       "      <th>type</th>\n",
       "    </tr>\n",
       "  </thead>\n",
       "  <tbody>\n",
       "    <tr>\n",
       "      <th>0</th>\n",
       "      <td>0</td>\n",
       "      <td>5</td>\n",
       "      <td>5.6</td>\n",
       "      <td>0.695</td>\n",
       "      <td>0.06</td>\n",
       "      <td>6.8</td>\n",
       "      <td>0.042</td>\n",
       "      <td>9.0</td>\n",
       "      <td>84.0</td>\n",
       "      <td>0.99432</td>\n",
       "      <td>3.44</td>\n",
       "      <td>0.44</td>\n",
       "      <td>10.2</td>\n",
       "      <td>white</td>\n",
       "    </tr>\n",
       "    <tr>\n",
       "      <th>1</th>\n",
       "      <td>1</td>\n",
       "      <td>5</td>\n",
       "      <td>8.8</td>\n",
       "      <td>0.610</td>\n",
       "      <td>0.14</td>\n",
       "      <td>2.4</td>\n",
       "      <td>0.067</td>\n",
       "      <td>10.0</td>\n",
       "      <td>42.0</td>\n",
       "      <td>0.99690</td>\n",
       "      <td>3.19</td>\n",
       "      <td>0.59</td>\n",
       "      <td>9.5</td>\n",
       "      <td>red</td>\n",
       "    </tr>\n",
       "    <tr>\n",
       "      <th>2</th>\n",
       "      <td>2</td>\n",
       "      <td>5</td>\n",
       "      <td>7.9</td>\n",
       "      <td>0.210</td>\n",
       "      <td>0.39</td>\n",
       "      <td>2.0</td>\n",
       "      <td>0.057</td>\n",
       "      <td>21.0</td>\n",
       "      <td>138.0</td>\n",
       "      <td>0.99176</td>\n",
       "      <td>3.05</td>\n",
       "      <td>0.52</td>\n",
       "      <td>10.9</td>\n",
       "      <td>white</td>\n",
       "    </tr>\n",
       "    <tr>\n",
       "      <th>3</th>\n",
       "      <td>3</td>\n",
       "      <td>6</td>\n",
       "      <td>7.0</td>\n",
       "      <td>0.210</td>\n",
       "      <td>0.31</td>\n",
       "      <td>6.0</td>\n",
       "      <td>0.046</td>\n",
       "      <td>29.0</td>\n",
       "      <td>108.0</td>\n",
       "      <td>0.99390</td>\n",
       "      <td>3.26</td>\n",
       "      <td>0.50</td>\n",
       "      <td>10.8</td>\n",
       "      <td>white</td>\n",
       "    </tr>\n",
       "    <tr>\n",
       "      <th>4</th>\n",
       "      <td>4</td>\n",
       "      <td>6</td>\n",
       "      <td>7.8</td>\n",
       "      <td>0.400</td>\n",
       "      <td>0.26</td>\n",
       "      <td>9.5</td>\n",
       "      <td>0.059</td>\n",
       "      <td>32.0</td>\n",
       "      <td>178.0</td>\n",
       "      <td>0.99550</td>\n",
       "      <td>3.04</td>\n",
       "      <td>0.43</td>\n",
       "      <td>10.9</td>\n",
       "      <td>white</td>\n",
       "    </tr>\n",
       "  </tbody>\n",
       "</table>\n",
       "</div>"
      ],
      "text/plain": [
       "   index  quality  fixed acidity  volatile acidity  citric acid  \\\n",
       "0      0        5            5.6             0.695         0.06   \n",
       "1      1        5            8.8             0.610         0.14   \n",
       "2      2        5            7.9             0.210         0.39   \n",
       "3      3        6            7.0             0.210         0.31   \n",
       "4      4        6            7.8             0.400         0.26   \n",
       "\n",
       "   residual sugar  chlorides  free sulfur dioxide  total sulfur dioxide  \\\n",
       "0             6.8      0.042                  9.0                  84.0   \n",
       "1             2.4      0.067                 10.0                  42.0   \n",
       "2             2.0      0.057                 21.0                 138.0   \n",
       "3             6.0      0.046                 29.0                 108.0   \n",
       "4             9.5      0.059                 32.0                 178.0   \n",
       "\n",
       "   density    pH  sulphates  alcohol   type  \n",
       "0  0.99432  3.44       0.44     10.2  white  \n",
       "1  0.99690  3.19       0.59      9.5    red  \n",
       "2  0.99176  3.05       0.52     10.9  white  \n",
       "3  0.99390  3.26       0.50     10.8  white  \n",
       "4  0.99550  3.04       0.43     10.9  white  "
      ]
     },
     "execution_count": 3,
     "metadata": {},
     "output_type": "execute_result"
    }
   ],
   "source": [
    "wine_data.head(5)"
   ]
  },
  {
   "cell_type": "code",
   "execution_count": 4,
   "metadata": {
    "ExecuteTime": {
     "end_time": "2022-03-19T09:31:39.170364Z",
     "start_time": "2022-03-19T09:31:39.158359Z"
    },
    "id": "eD-7uag3YqzG"
   },
   "outputs": [],
   "source": [
    "del wine_data['index']"
   ]
  },
  {
   "cell_type": "code",
   "execution_count": 5,
   "metadata": {
    "ExecuteTime": {
     "end_time": "2022-03-19T09:31:48.659877Z",
     "start_time": "2022-03-19T09:31:48.645918Z"
    },
    "colab": {
     "base_uri": "https://localhost:8080/"
    },
    "id": "g8HEZo2yYqzG",
    "outputId": "c5ffde0e-f387-4a86-9d1b-a6b57e30dd6d"
   },
   "outputs": [
    {
     "name": "stdout",
     "output_type": "stream",
     "text": [
      "Index(['quality', 'fixed acidity', 'volatile acidity', 'citric acid',\n",
      "       'residual sugar', 'chlorides', 'free sulfur dioxide',\n",
      "       'total sulfur dioxide', 'density', 'pH', 'sulphates', 'alcohol',\n",
      "       'type'],\n",
      "      dtype='object')\n"
     ]
    }
   ],
   "source": [
    "print(wine_data.columns)"
   ]
  },
  {
   "cell_type": "markdown",
   "metadata": {
    "id": "Le9024xjYqzH"
   },
   "source": [
    "### info()를 결측치가 있는지 확인하고, describe()를 통해 수치형 피쳐들의 scale을 살펴보고, 스케일링을 진행해야 하는지 살펴보시오. "
   ]
  },
  {
   "cell_type": "code",
   "execution_count": 6,
   "metadata": {
    "ExecuteTime": {
     "end_time": "2022-03-19T09:38:37.051427Z",
     "start_time": "2022-03-19T09:38:37.032479Z"
    },
    "colab": {
     "base_uri": "https://localhost:8080/"
    },
    "id": "v8hj9XhmYqzI",
    "outputId": "ae131dc6-5401-44ab-ac09-2aa7ec7392e4"
   },
   "outputs": [
    {
     "name": "stdout",
     "output_type": "stream",
     "text": [
      "<class 'pandas.core.frame.DataFrame'>\n",
      "RangeIndex: 5497 entries, 0 to 5496\n",
      "Data columns (total 13 columns):\n",
      " #   Column                Non-Null Count  Dtype  \n",
      "---  ------                --------------  -----  \n",
      " 0   quality               5497 non-null   int64  \n",
      " 1   fixed acidity         5497 non-null   float64\n",
      " 2   volatile acidity      5497 non-null   float64\n",
      " 3   citric acid           5497 non-null   float64\n",
      " 4   residual sugar        5497 non-null   float64\n",
      " 5   chlorides             5497 non-null   float64\n",
      " 6   free sulfur dioxide   5497 non-null   float64\n",
      " 7   total sulfur dioxide  5497 non-null   float64\n",
      " 8   density               5497 non-null   float64\n",
      " 9   pH                    5497 non-null   float64\n",
      " 10  sulphates             5497 non-null   float64\n",
      " 11  alcohol               5497 non-null   float64\n",
      " 12  type                  5497 non-null   object \n",
      "dtypes: float64(11), int64(1), object(1)\n",
      "memory usage: 558.4+ KB\n"
     ]
    }
   ],
   "source": [
    "wine_data.info()"
   ]
  },
  {
   "cell_type": "markdown",
   "metadata": {
    "id": "qXC5ZhCwYqzI"
   },
   "source": [
    "-> train, test 모두 결측치 없음!"
   ]
  },
  {
   "cell_type": "code",
   "execution_count": 7,
   "metadata": {
    "ExecuteTime": {
     "end_time": "2022-03-19T09:38:49.069998Z",
     "start_time": "2022-03-19T09:38:49.006169Z"
    },
    "colab": {
     "base_uri": "https://localhost:8080/",
     "height": 399
    },
    "id": "MriFtl_FYqzI",
    "outputId": "ebf8ba67-e270-40ed-a924-221ed9ee5f2e"
   },
   "outputs": [
    {
     "data": {
      "text/html": [
       "<div>\n",
       "<style scoped>\n",
       "    .dataframe tbody tr th:only-of-type {\n",
       "        vertical-align: middle;\n",
       "    }\n",
       "\n",
       "    .dataframe tbody tr th {\n",
       "        vertical-align: top;\n",
       "    }\n",
       "\n",
       "    .dataframe thead th {\n",
       "        text-align: right;\n",
       "    }\n",
       "</style>\n",
       "<table border=\"1\" class=\"dataframe\">\n",
       "  <thead>\n",
       "    <tr style=\"text-align: right;\">\n",
       "      <th></th>\n",
       "      <th>quality</th>\n",
       "      <th>fixed acidity</th>\n",
       "      <th>volatile acidity</th>\n",
       "      <th>citric acid</th>\n",
       "      <th>residual sugar</th>\n",
       "      <th>chlorides</th>\n",
       "      <th>free sulfur dioxide</th>\n",
       "      <th>total sulfur dioxide</th>\n",
       "      <th>density</th>\n",
       "      <th>pH</th>\n",
       "      <th>sulphates</th>\n",
       "      <th>alcohol</th>\n",
       "    </tr>\n",
       "  </thead>\n",
       "  <tbody>\n",
       "    <tr>\n",
       "      <th>count</th>\n",
       "      <td>5497.000000</td>\n",
       "      <td>5497.000000</td>\n",
       "      <td>5497.000000</td>\n",
       "      <td>5497.000000</td>\n",
       "      <td>5497.000000</td>\n",
       "      <td>5497.000000</td>\n",
       "      <td>5497.000000</td>\n",
       "      <td>5497.000000</td>\n",
       "      <td>5497.000000</td>\n",
       "      <td>5497.000000</td>\n",
       "      <td>5497.000000</td>\n",
       "      <td>5497.000000</td>\n",
       "    </tr>\n",
       "    <tr>\n",
       "      <th>mean</th>\n",
       "      <td>5.818992</td>\n",
       "      <td>7.210115</td>\n",
       "      <td>0.338163</td>\n",
       "      <td>0.318543</td>\n",
       "      <td>5.438075</td>\n",
       "      <td>0.055808</td>\n",
       "      <td>30.417682</td>\n",
       "      <td>115.566491</td>\n",
       "      <td>0.994673</td>\n",
       "      <td>3.219502</td>\n",
       "      <td>0.530524</td>\n",
       "      <td>10.504918</td>\n",
       "    </tr>\n",
       "    <tr>\n",
       "      <th>std</th>\n",
       "      <td>0.870311</td>\n",
       "      <td>1.287579</td>\n",
       "      <td>0.163224</td>\n",
       "      <td>0.145104</td>\n",
       "      <td>4.756676</td>\n",
       "      <td>0.034653</td>\n",
       "      <td>17.673881</td>\n",
       "      <td>56.288223</td>\n",
       "      <td>0.003014</td>\n",
       "      <td>0.160713</td>\n",
       "      <td>0.149396</td>\n",
       "      <td>1.194524</td>\n",
       "    </tr>\n",
       "    <tr>\n",
       "      <th>min</th>\n",
       "      <td>3.000000</td>\n",
       "      <td>3.800000</td>\n",
       "      <td>0.080000</td>\n",
       "      <td>0.000000</td>\n",
       "      <td>0.600000</td>\n",
       "      <td>0.009000</td>\n",
       "      <td>1.000000</td>\n",
       "      <td>6.000000</td>\n",
       "      <td>0.987110</td>\n",
       "      <td>2.740000</td>\n",
       "      <td>0.220000</td>\n",
       "      <td>8.000000</td>\n",
       "    </tr>\n",
       "    <tr>\n",
       "      <th>25%</th>\n",
       "      <td>5.000000</td>\n",
       "      <td>6.400000</td>\n",
       "      <td>0.230000</td>\n",
       "      <td>0.250000</td>\n",
       "      <td>1.800000</td>\n",
       "      <td>0.038000</td>\n",
       "      <td>17.000000</td>\n",
       "      <td>78.000000</td>\n",
       "      <td>0.992300</td>\n",
       "      <td>3.110000</td>\n",
       "      <td>0.430000</td>\n",
       "      <td>9.500000</td>\n",
       "    </tr>\n",
       "    <tr>\n",
       "      <th>50%</th>\n",
       "      <td>6.000000</td>\n",
       "      <td>7.000000</td>\n",
       "      <td>0.290000</td>\n",
       "      <td>0.310000</td>\n",
       "      <td>3.000000</td>\n",
       "      <td>0.047000</td>\n",
       "      <td>29.000000</td>\n",
       "      <td>118.000000</td>\n",
       "      <td>0.994800</td>\n",
       "      <td>3.210000</td>\n",
       "      <td>0.510000</td>\n",
       "      <td>10.300000</td>\n",
       "    </tr>\n",
       "    <tr>\n",
       "      <th>75%</th>\n",
       "      <td>6.000000</td>\n",
       "      <td>7.700000</td>\n",
       "      <td>0.400000</td>\n",
       "      <td>0.390000</td>\n",
       "      <td>8.100000</td>\n",
       "      <td>0.064000</td>\n",
       "      <td>41.000000</td>\n",
       "      <td>155.000000</td>\n",
       "      <td>0.996930</td>\n",
       "      <td>3.320000</td>\n",
       "      <td>0.600000</td>\n",
       "      <td>11.300000</td>\n",
       "    </tr>\n",
       "    <tr>\n",
       "      <th>max</th>\n",
       "      <td>9.000000</td>\n",
       "      <td>15.900000</td>\n",
       "      <td>1.580000</td>\n",
       "      <td>1.660000</td>\n",
       "      <td>65.800000</td>\n",
       "      <td>0.610000</td>\n",
       "      <td>289.000000</td>\n",
       "      <td>440.000000</td>\n",
       "      <td>1.038980</td>\n",
       "      <td>4.010000</td>\n",
       "      <td>2.000000</td>\n",
       "      <td>14.900000</td>\n",
       "    </tr>\n",
       "  </tbody>\n",
       "</table>\n",
       "</div>"
      ],
      "text/plain": [
       "           quality  fixed acidity  volatile acidity  citric acid  \\\n",
       "count  5497.000000    5497.000000       5497.000000  5497.000000   \n",
       "mean      5.818992       7.210115          0.338163     0.318543   \n",
       "std       0.870311       1.287579          0.163224     0.145104   \n",
       "min       3.000000       3.800000          0.080000     0.000000   \n",
       "25%       5.000000       6.400000          0.230000     0.250000   \n",
       "50%       6.000000       7.000000          0.290000     0.310000   \n",
       "75%       6.000000       7.700000          0.400000     0.390000   \n",
       "max       9.000000      15.900000          1.580000     1.660000   \n",
       "\n",
       "       residual sugar    chlorides  free sulfur dioxide  total sulfur dioxide  \\\n",
       "count     5497.000000  5497.000000          5497.000000           5497.000000   \n",
       "mean         5.438075     0.055808            30.417682            115.566491   \n",
       "std          4.756676     0.034653            17.673881             56.288223   \n",
       "min          0.600000     0.009000             1.000000              6.000000   \n",
       "25%          1.800000     0.038000            17.000000             78.000000   \n",
       "50%          3.000000     0.047000            29.000000            118.000000   \n",
       "75%          8.100000     0.064000            41.000000            155.000000   \n",
       "max         65.800000     0.610000           289.000000            440.000000   \n",
       "\n",
       "           density           pH    sulphates      alcohol  \n",
       "count  5497.000000  5497.000000  5497.000000  5497.000000  \n",
       "mean      0.994673     3.219502     0.530524    10.504918  \n",
       "std       0.003014     0.160713     0.149396     1.194524  \n",
       "min       0.987110     2.740000     0.220000     8.000000  \n",
       "25%       0.992300     3.110000     0.430000     9.500000  \n",
       "50%       0.994800     3.210000     0.510000    10.300000  \n",
       "75%       0.996930     3.320000     0.600000    11.300000  \n",
       "max       1.038980     4.010000     2.000000    14.900000  "
      ]
     },
     "execution_count": 7,
     "metadata": {},
     "output_type": "execute_result"
    }
   ],
   "source": [
    "wine_data.describe()"
   ]
  },
  {
   "cell_type": "markdown",
   "metadata": {
    "id": "EHOcRPKDYqzJ"
   },
   "source": [
    "-> 각 피쳐끼리 단위가 달라 스케일링 작업이 필요하다."
   ]
  },
  {
   "cell_type": "markdown",
   "metadata": {
    "id": "6hY00gS0YqzJ"
   },
   "source": [
    "### wine_data에서 각 피쳐들 간의 상관관계를 나타내는 히트맵을 출력하시오."
   ]
  },
  {
   "cell_type": "code",
   "execution_count": 8,
   "metadata": {
    "ExecuteTime": {
     "end_time": "2022-03-19T09:39:14.527242Z",
     "start_time": "2022-03-19T09:39:13.740443Z"
    },
    "colab": {
     "base_uri": "https://localhost:8080/",
     "height": 481
    },
    "id": "vPet3TIlYqzJ",
    "outputId": "02303c06-aeea-4ef1-c733-26ef7281a837"
   },
   "outputs": [
    {
     "data": {
      "text/plain": [
       "<AxesSubplot:>"
      ]
     },
     "execution_count": 8,
     "metadata": {},
     "output_type": "execute_result"
    },
    {
     "data": {
      "image/png": "[encoded data removed]",
      "text/plain": [
       "<Figure size 864x432 with 2 Axes>"
      ]
     },
     "metadata": {
      "needs_background": "light"
     },
     "output_type": "display_data"
    }
   ],
   "source": [
    "plt.figure(figsize=(12,6))\n",
    "sns.heatmap(wine_data.corr(), annot=True)"
   ]
  },
  {
   "cell_type": "markdown",
   "metadata": {
    "id": "0sLcOUTHYqzK"
   },
   "source": [
    "### 데이터에서 피쳐값과 타겟값을 분리하여 각각 X_wine, y_wine으로 저장하시오. (target은 quality)"
   ]
  },
  {
   "cell_type": "code",
   "execution_count": 9,
   "metadata": {
    "ExecuteTime": {
     "end_time": "2022-03-19T09:45:57.431968Z",
     "start_time": "2022-03-19T09:45:57.414977Z"
    },
    "id": "qNcxcW_NYqzK"
   },
   "outputs": [],
   "source": [
    "X_wine = wine_data.drop(['quality'], axis=1)\n",
    "y_wine = wine_data['quality']"
   ]
  },
  {
   "cell_type": "code",
   "execution_count": 10,
   "metadata": {
    "ExecuteTime": {
     "end_time": "2022-03-19T09:46:11.005702Z",
     "start_time": "2022-03-19T09:46:10.984758Z"
    },
    "colab": {
     "base_uri": "https://localhost:8080/",
     "height": 222
    },
    "id": "C_hpzL_MYqzK",
    "outputId": "7c9211f5-7cde-437f-c8e6-c71a90edf6b6"
   },
   "outputs": [
    {
     "data": {
      "text/html": [
       "<div>\n",
       "<style scoped>\n",
       "    .dataframe tbody tr th:only-of-type {\n",
       "        vertical-align: middle;\n",
       "    }\n",
       "\n",
       "    .dataframe tbody tr th {\n",
       "        vertical-align: top;\n",
       "    }\n",
       "\n",
       "    .dataframe thead th {\n",
       "        text-align: right;\n",
       "    }\n",
       "</style>\n",
       "<table border=\"1\" class=\"dataframe\">\n",
       "  <thead>\n",
       "    <tr style=\"text-align: right;\">\n",
       "      <th></th>\n",
       "      <th>fixed acidity</th>\n",
       "      <th>volatile acidity</th>\n",
       "      <th>citric acid</th>\n",
       "      <th>residual sugar</th>\n",
       "      <th>chlorides</th>\n",
       "      <th>free sulfur dioxide</th>\n",
       "      <th>total sulfur dioxide</th>\n",
       "      <th>density</th>\n",
       "      <th>pH</th>\n",
       "      <th>sulphates</th>\n",
       "      <th>alcohol</th>\n",
       "      <th>type</th>\n",
       "    </tr>\n",
       "  </thead>\n",
       "  <tbody>\n",
       "    <tr>\n",
       "      <th>0</th>\n",
       "      <td>5.6</td>\n",
       "      <td>0.695</td>\n",
       "      <td>0.06</td>\n",
       "      <td>6.8</td>\n",
       "      <td>0.042</td>\n",
       "      <td>9.0</td>\n",
       "      <td>84.0</td>\n",
       "      <td>0.99432</td>\n",
       "      <td>3.44</td>\n",
       "      <td>0.44</td>\n",
       "      <td>10.2</td>\n",
       "      <td>white</td>\n",
       "    </tr>\n",
       "    <tr>\n",
       "      <th>1</th>\n",
       "      <td>8.8</td>\n",
       "      <td>0.610</td>\n",
       "      <td>0.14</td>\n",
       "      <td>2.4</td>\n",
       "      <td>0.067</td>\n",
       "      <td>10.0</td>\n",
       "      <td>42.0</td>\n",
       "      <td>0.99690</td>\n",
       "      <td>3.19</td>\n",
       "      <td>0.59</td>\n",
       "      <td>9.5</td>\n",
       "      <td>red</td>\n",
       "    </tr>\n",
       "    <tr>\n",
       "      <th>2</th>\n",
       "      <td>7.9</td>\n",
       "      <td>0.210</td>\n",
       "      <td>0.39</td>\n",
       "      <td>2.0</td>\n",
       "      <td>0.057</td>\n",
       "      <td>21.0</td>\n",
       "      <td>138.0</td>\n",
       "      <td>0.99176</td>\n",
       "      <td>3.05</td>\n",
       "      <td>0.52</td>\n",
       "      <td>10.9</td>\n",
       "      <td>white</td>\n",
       "    </tr>\n",
       "  </tbody>\n",
       "</table>\n",
       "</div>"
      ],
      "text/plain": [
       "   fixed acidity  volatile acidity  citric acid  residual sugar  chlorides  \\\n",
       "0            5.6             0.695         0.06             6.8      0.042   \n",
       "1            8.8             0.610         0.14             2.4      0.067   \n",
       "2            7.9             0.210         0.39             2.0      0.057   \n",
       "\n",
       "   free sulfur dioxide  total sulfur dioxide  density    pH  sulphates  \\\n",
       "0                  9.0                  84.0  0.99432  3.44       0.44   \n",
       "1                 10.0                  42.0  0.99690  3.19       0.59   \n",
       "2                 21.0                 138.0  0.99176  3.05       0.52   \n",
       "\n",
       "   alcohol   type  \n",
       "0     10.2  white  \n",
       "1      9.5    red  \n",
       "2     10.9  white  "
      ]
     },
     "execution_count": 10,
     "metadata": {},
     "output_type": "execute_result"
    }
   ],
   "source": [
    "#데이터 확인(X_wine)\n",
    "X_wine.head(3)"
   ]
  },
  {
   "cell_type": "code",
   "execution_count": 11,
   "metadata": {
    "ExecuteTime": {
     "end_time": "2022-03-19T09:46:29.584145Z",
     "start_time": "2022-03-19T09:46:29.564160Z"
    },
    "colab": {
     "base_uri": "https://localhost:8080/"
    },
    "id": "nzQGB8XAYqzL",
    "outputId": "c64b23ea-e4df-4bc2-e9ba-5ddd2e884b38"
   },
   "outputs": [
    {
     "data": {
      "text/plain": [
       "0    5\n",
       "1    5\n",
       "2    5\n",
       "Name: quality, dtype: int64"
      ]
     },
     "execution_count": 11,
     "metadata": {},
     "output_type": "execute_result"
    }
   ],
   "source": [
    "#데이터 확인(y_wine)\n",
    "y_wine.head(3)"
   ]
  },
  {
   "cell_type": "markdown",
   "metadata": {
    "id": "exsdnKdxYqzL"
   },
   "source": [
    "### 피쳐값 중 카테고리 변수가 1가지 있다. 이에 대해 Encoding을 진행하시오."
   ]
  },
  {
   "cell_type": "code",
   "execution_count": 12,
   "metadata": {
    "ExecuteTime": {
     "end_time": "2022-03-19T10:01:42.502392Z",
     "start_time": "2022-03-19T10:01:42.482445Z"
    },
    "id": "qTAO4iFrYqzL"
   },
   "outputs": [],
   "source": [
    "#type 피쳐에 대해 Encoding 진행\n",
    "X_wine['type'] = pd.get_dummies(X_wine['type'])"
   ]
  },
  {
   "cell_type": "code",
   "execution_count": 13,
   "metadata": {
    "ExecuteTime": {
     "end_time": "2022-03-19T10:01:50.137584Z",
     "start_time": "2022-03-19T10:01:50.115633Z"
    },
    "colab": {
     "base_uri": "https://localhost:8080/"
    },
    "id": "UX_LmHCNYqzL",
    "outputId": "d9b4cb2b-6041-4d63-c9a6-0b0541ea69df"
   },
   "outputs": [
    {
     "data": {
      "text/plain": [
       "0       0\n",
       "1       1\n",
       "2       0\n",
       "3       0\n",
       "4       0\n",
       "       ..\n",
       "5492    0\n",
       "5493    0\n",
       "5494    0\n",
       "5495    0\n",
       "5496    0\n",
       "Name: type, Length: 5497, dtype: uint8"
      ]
     },
     "execution_count": 13,
     "metadata": {},
     "output_type": "execute_result"
    }
   ],
   "source": [
    "#Encoding이 잘 되었는지 확인\n",
    "X_wine['type']"
   ]
  },
  {
   "cell_type": "markdown",
   "metadata": {
    "id": "FG_5_eGJYqzM"
   },
   "source": [
    "### 피쳐값에 대해 MinMaxScaler()를 이용해 스케일링을 하시오.\n",
    "- 스케일링 된 피쳐값은 데이터프레임 형식으로 X_wine_scaled에 저장"
   ]
  },
  {
   "cell_type": "code",
   "execution_count": 14,
   "metadata": {
    "ExecuteTime": {
     "end_time": "2022-03-19T10:03:36.493785Z",
     "start_time": "2022-03-19T10:03:36.479822Z"
    },
    "id": "yb0PxWxkYqzM"
   },
   "outputs": [],
   "source": [
    "from sklearn.preprocessing import MinMaxScaler\n",
    "\n",
    "#MinMaxScaler 객체 생성\n",
    "scaler = MinMaxScaler()\n",
    "scaler.fit(X_wine)\n",
    "X_wine_scaled = scaler.transform(X_wine)\n",
    "X_wine_scaled = pd.DataFrame(data=X_wine_scaled, columns=X_wine.columns)"
   ]
  },
  {
   "cell_type": "code",
   "execution_count": 15,
   "metadata": {
    "ExecuteTime": {
     "end_time": "2022-03-19T10:03:47.775968Z",
     "start_time": "2022-03-19T10:03:47.751034Z"
    },
    "colab": {
     "base_uri": "https://localhost:8080/",
     "height": 242
    },
    "id": "Hwrj-aPiYqzM",
    "outputId": "3247a869-18b1-449f-9466-52ea11d55596"
   },
   "outputs": [
    {
     "data": {
      "text/html": [
       "<div>\n",
       "<style scoped>\n",
       "    .dataframe tbody tr th:only-of-type {\n",
       "        vertical-align: middle;\n",
       "    }\n",
       "\n",
       "    .dataframe tbody tr th {\n",
       "        vertical-align: top;\n",
       "    }\n",
       "\n",
       "    .dataframe thead th {\n",
       "        text-align: right;\n",
       "    }\n",
       "</style>\n",
       "<table border=\"1\" class=\"dataframe\">\n",
       "  <thead>\n",
       "    <tr style=\"text-align: right;\">\n",
       "      <th></th>\n",
       "      <th>fixed acidity</th>\n",
       "      <th>volatile acidity</th>\n",
       "      <th>citric acid</th>\n",
       "      <th>residual sugar</th>\n",
       "      <th>chlorides</th>\n",
       "      <th>free sulfur dioxide</th>\n",
       "      <th>total sulfur dioxide</th>\n",
       "      <th>density</th>\n",
       "      <th>pH</th>\n",
       "      <th>sulphates</th>\n",
       "      <th>alcohol</th>\n",
       "      <th>type</th>\n",
       "    </tr>\n",
       "  </thead>\n",
       "  <tbody>\n",
       "    <tr>\n",
       "      <th>0</th>\n",
       "      <td>0.148760</td>\n",
       "      <td>0.410000</td>\n",
       "      <td>0.036145</td>\n",
       "      <td>0.095092</td>\n",
       "      <td>0.054908</td>\n",
       "      <td>0.027778</td>\n",
       "      <td>0.179724</td>\n",
       "      <td>0.139001</td>\n",
       "      <td>0.551181</td>\n",
       "      <td>0.123596</td>\n",
       "      <td>0.318841</td>\n",
       "      <td>0.0</td>\n",
       "    </tr>\n",
       "    <tr>\n",
       "      <th>1</th>\n",
       "      <td>0.413223</td>\n",
       "      <td>0.353333</td>\n",
       "      <td>0.084337</td>\n",
       "      <td>0.027607</td>\n",
       "      <td>0.096506</td>\n",
       "      <td>0.031250</td>\n",
       "      <td>0.082949</td>\n",
       "      <td>0.188741</td>\n",
       "      <td>0.354331</td>\n",
       "      <td>0.207865</td>\n",
       "      <td>0.217391</td>\n",
       "      <td>1.0</td>\n",
       "    </tr>\n",
       "    <tr>\n",
       "      <th>2</th>\n",
       "      <td>0.338843</td>\n",
       "      <td>0.086667</td>\n",
       "      <td>0.234940</td>\n",
       "      <td>0.021472</td>\n",
       "      <td>0.079867</td>\n",
       "      <td>0.069444</td>\n",
       "      <td>0.304147</td>\n",
       "      <td>0.089647</td>\n",
       "      <td>0.244094</td>\n",
       "      <td>0.168539</td>\n",
       "      <td>0.420290</td>\n",
       "      <td>0.0</td>\n",
       "    </tr>\n",
       "  </tbody>\n",
       "</table>\n",
       "</div>"
      ],
      "text/plain": [
       "   fixed acidity  volatile acidity  citric acid  residual sugar  chlorides  \\\n",
       "0       0.148760          0.410000     0.036145        0.095092   0.054908   \n",
       "1       0.413223          0.353333     0.084337        0.027607   0.096506   \n",
       "2       0.338843          0.086667     0.234940        0.021472   0.079867   \n",
       "\n",
       "   free sulfur dioxide  total sulfur dioxide   density        pH  sulphates  \\\n",
       "0             0.027778              0.179724  0.139001  0.551181   0.123596   \n",
       "1             0.031250              0.082949  0.188741  0.354331   0.207865   \n",
       "2             0.069444              0.304147  0.089647  0.244094   0.168539   \n",
       "\n",
       "    alcohol  type  \n",
       "0  0.318841   0.0  \n",
       "1  0.217391   1.0  \n",
       "2  0.420290   0.0  "
      ]
     },
     "execution_count": 15,
     "metadata": {},
     "output_type": "execute_result"
    }
   ],
   "source": [
    "#Scaling 잘 되었는지 확인\n",
    "X_wine_scaled.head(3)"
   ]
  },
  {
   "cell_type": "markdown",
   "metadata": {
    "id": "FKvIl1gbYqzN"
   },
   "source": [
    "### train_test_split()을 이용해 train set와 test set를 분리하시오.\n",
    "- testset 의 size : 전체 데이터 셋의 20%\n",
    "- 각 set의 이름 : X_train, X_test, y_train, y_test\n",
    "- random_state = 123"
   ]
  },
  {
   "cell_type": "code",
   "execution_count": 16,
   "metadata": {
    "ExecuteTime": {
     "end_time": "2022-03-19T10:11:30.961471Z",
     "start_time": "2022-03-19T10:11:30.943440Z"
    },
    "id": "_U_yZoCZYqzN"
   },
   "outputs": [],
   "source": [
    "from sklearn.model_selection import train_test_split\n",
    "X_train, X_test, y_train, y_test = train_test_split(X_wine_scaled, y_wine, test_size=0.2, random_state=123)"
   ]
  },
  {
   "cell_type": "code",
   "execution_count": 17,
   "metadata": {
    "ExecuteTime": {
     "end_time": "2022-03-19T10:11:55.968538Z",
     "start_time": "2022-03-19T10:11:55.959562Z"
    },
    "colab": {
     "base_uri": "https://localhost:8080/"
    },
    "id": "8ou0AQdOYqzN",
    "outputId": "288804f2-afac-4bcc-cd19-5df76685330d"
   },
   "outputs": [
    {
     "name": "stdout",
     "output_type": "stream",
     "text": [
      "(4397, 12) (1100, 12)\n"
     ]
    }
   ],
   "source": [
    "#잘 분리되었는지 확인\n",
    "print(X_train.shape, X_test.shape)"
   ]
  },
  {
   "cell_type": "markdown",
   "metadata": {
    "id": "ZP9-jeVFiv01"
   },
   "source": [
    "### GradientBoostingClassifier을 사용해 train data를 fit 한 후, test data로 예측을 수행하고 정확도를 구하시오"
   ]
  },
  {
   "cell_type": "code",
   "execution_count": 18,
   "metadata": {
    "colab": {
     "base_uri": "https://localhost:8080/"
    },
    "id": "i7OWRX9xYqzO",
    "outputId": "d4baa1e0-79b4-42f3-9940-617cc06aa79c"
   },
   "outputs": [
    {
     "name": "stdout",
     "output_type": "stream",
     "text": [
      "정확도: 0.5427\n"
     ]
    }
   ],
   "source": [
    "from sklearn.ensemble import GradientBoostingClassifier\n",
    "from sklearn.metrics import accuracy_score\n",
    "import warnings\n",
    "warnings.filterwarnings('ignore')\n",
    "\n",
    "gb_clf=GradientBoostingClassifier()\n",
    "gb_clf.fit(X_train,y_train)\n",
    "gb_pred=gb_clf.predict(X_test)\n",
    "gb_accuracy=accuracy_score(y_test,gb_pred)\n",
    "print('정확도: {0:.4f}'.format(gb_accuracy))"
   ]
  },
  {
   "cell_type": "markdown",
   "metadata": {
    "id": "ncw9i-QAq5CO"
   },
   "source": [
    "### GridSearchCV를 사용해 최적 하이퍼 파라미터 조합을 찾으시오\n",
    "params={\n",
    "    'learning_rate':[0.05,0.1],\n",
    "    'n_estimators':[100,500]\n",
    "}"
   ]
  },
  {
   "cell_type": "code",
   "execution_count": 19,
   "metadata": {
    "colab": {
     "base_uri": "https://localhost:8080/"
    },
    "id": "fa8AbTY1kx66",
    "outputId": "adc7e89a-c6a9-4257-f5ef-f127fe58ac48"
   },
   "outputs": [
    {
     "name": "stdout",
     "output_type": "stream",
     "text": [
      "최적 하이퍼 파라미터:\n",
      " {'learning_rate': 0.1, 'n_estimators': 500}\n"
     ]
    }
   ],
   "source": [
    "from sklearn.model_selection import GridSearchCV\n",
    "\n",
    "params={\n",
    "    'learning_rate':[0.05,0.1],\n",
    "    'n_estimators':[100,500]\n",
    "}\n",
    "\n",
    "grid_cv=GridSearchCV(gb_clf,param_grid=params, cv=2)\n",
    "grid_cv.fit(X_train,y_train)\n",
    "print('최적 하이퍼 파라미터:\\n',grid_cv.best_params_)"
   ]
  },
  {
   "cell_type": "markdown",
   "metadata": {
    "id": "Ikzbq-5vrTWb"
   },
   "source": [
    "최적으로 학습된 estimator로 예측을 수행하시오"
   ]
  },
  {
   "cell_type": "code",
   "execution_count": 20,
   "metadata": {
    "colab": {
     "base_uri": "https://localhost:8080/"
    },
    "id": "MwWc5RGfnaTt",
    "outputId": "d45883c0-32e3-4a27-e551-e34fcf21f594"
   },
   "outputs": [
    {
     "name": "stdout",
     "output_type": "stream",
     "text": [
      "정확도: 0.5636\n"
     ]
    }
   ],
   "source": [
    "gb_pred=grid_cv.best_estimator_.predict(X_test)\n",
    "gb_accuracy=accuracy_score(y_test,gb_pred)\n",
    "print('정확도: {0:.4f}'.format(gb_accuracy))"
   ]
  },
  {
   "cell_type": "markdown",
   "metadata": {
    "id": "Y3ODggY3WeRz"
   },
   "source": [
    "## XGBoost 및 LightGBM 실습"
   ]
  },
  {
   "cell_type": "markdown",
   "metadata": {
    "id": "sA2WcrL-WeRz"
   },
   "source": [
    "### 사이킷런 래퍼 클래스 XGBoost를 사용해 train 세트를 fit 한 후 test 세트로 예측의 정확도 및 F1 스코어를 출력하시오.\n",
    "- n_estimators=400\n",
    "- learning_rate = 0.1\n",
    "- max_depth = 3"
   ]
  },
  {
   "cell_type": "code",
   "execution_count": 21,
   "metadata": {
    "ExecuteTime": {
     "end_time": "2022-03-19T17:33:16.230161Z",
     "start_time": "2022-03-19T17:33:12.137108Z"
    },
    "id": "7Gej59XEWeRz"
   },
   "outputs": [
    {
     "name": "stdout",
     "output_type": "stream",
     "text": [
      "[18:57:24] WARNING: ..\\src\\learner.cc:1115: Starting in XGBoost 1.3.0, the default evaluation metric used with the objective 'multi:softprob' was changed from 'merror' to 'mlogloss'. Explicitly set eval_metric if you'd like to restore the old behavior.\n"
     ]
    }
   ],
   "source": [
    "#사이킷런 래퍼 XGBoost 클래스인 XGBClassifier 임포트\n",
    "from xgboost import XGBClassifier\n",
    "\n",
    "xgb_wrapper = XGBClassifier(n_estimators=400, learning_rate=0.1, max_depth=3)\n",
    "xgb_wrapper.fit(X_train, y_train)\n",
    "y_preds = xgb_wrapper.predict(X_test)"
   ]
  },
  {
   "cell_type": "code",
   "execution_count": 22,
   "metadata": {
    "ExecuteTime": {
     "end_time": "2022-03-19T17:43:40.854905Z",
     "start_time": "2022-03-19T17:43:40.838950Z"
    },
    "colab": {
     "base_uri": "https://localhost:8080/"
    },
    "id": "XybD99TOWeR0",
    "outputId": "d4427792-21bd-41e1-f8da-2a617a9863c8"
   },
   "outputs": [
    {
     "name": "stdout",
     "output_type": "stream",
     "text": [
      "모델의 정확도: 0.5854545454545454\n",
      "모델의 F1 스코어: 0.5750880303152167\n"
     ]
    }
   ],
   "source": [
    "#accuracy_score(), f1_score 임포트\n",
    "#f1_score는 기본적으로 이진분류에 사용되므로, 다중분류에서 사용하고 싶으면 average='무엇무엇' 설정해주면 됨\n",
    "#https://scikit-learn.org/stable/modules/generated/sklearn.metrics.f1_score.html 공식 문서 참고\n",
    "\n",
    "from sklearn.metrics import accuracy_score, f1_score\n",
    "\n",
    "print('모델의 정확도:', accuracy_score(y_test, y_preds))\n",
    "print('모델의 F1 스코어:', f1_score(y_test, y_preds, average='weighted'))"
   ]
  },
  {
   "cell_type": "markdown",
   "metadata": {
    "id": "gQbU03QHWeR0"
   },
   "source": [
    "### 사이킷런 래퍼 클래스 LightGBM와 GridSearchCV를 사용해 최적의 하이퍼 파라미터 조합과 그 하이퍼 파라미터의 예측 정확도를 구하시오.\n",
    "- 'n_estimators' : [100,200,300,400,500]\n",
    "- 'learning_rate' : [0.01,0.05, 0.1, 0.15, 0.2]\n",
    "- 'max_depth' : [3,4,5,6,7]\n",
    "\n",
    "(제 컴퓨터에선 2분정도 걸려욤)"
   ]
  },
  {
   "cell_type": "code",
   "execution_count": 23,
   "metadata": {
    "ExecuteTime": {
     "end_time": "2022-03-19T18:43:40.593542Z",
     "start_time": "2022-03-19T18:41:36.614094Z"
    },
    "colab": {
     "base_uri": "https://localhost:8080/"
    },
    "id": "Iw836_AiWeR0",
    "outputId": "2ace1810-777a-4e57-c9b3-5e83beba9e4b"
   },
   "outputs": [
    {
     "name": "stdout",
     "output_type": "stream",
     "text": [
      "Fitting 2 folds for each of 27 candidates, totalling 54 fits\n"
     ]
    },
    {
     "name": "stderr",
     "output_type": "stream",
     "text": [
      "[Parallel(n_jobs=1)]: Using backend SequentialBackend with 1 concurrent workers.\n",
      "[Parallel(n_jobs=1)]: Done  54 out of  54 | elapsed:  1.2min finished\n"
     ]
    },
    {
     "name": "stdout",
     "output_type": "stream",
     "text": [
      "최적 하이퍼 하라미터: {'learning_rate': 0.1, 'max_depth': 5, 'n_estimators': 300}\n",
      "최고 예측 정확도: 0.5942700400256382\n"
     ]
    }
   ],
   "source": [
    "from sklearn.model_selection import GridSearchCV\n",
    "from lightgbm import LGBMClassifier\n",
    "\n",
    "params = {\n",
    "    'n_estimators' : [300,400,500],\n",
    "    'learning_rate' : [0.01, 0.1, 0.15],\n",
    "    'max_depth' : [3,5,7]\n",
    "}\n",
    "\n",
    "lgbm_wrapper = LGBMClassifier()\n",
    "lgbm_wrapper.fit(X_train, y_train)\n",
    "grid_cv = GridSearchCV(lgbm_wrapper, param_grid=params, cv=2, verbose=1)\n",
    "grid_cv.fit(X_train,y_train)\n",
    "print('최적 하이퍼 하라미터:', grid_cv.best_params_)\n",
    "print('최고 예측 정확도:', grid_cv.best_score_)"
   ]
  },
  {
   "cell_type": "markdown",
   "metadata": {
    "id": "BT2PX4PfWeR1"
   },
   "source": [
    "### plot_importance()를 통해 피쳐 중요도를 시각화하고, 어떤 피쳐가 가장 중요한지 기술하시오."
   ]
  },
  {
   "cell_type": "code",
   "execution_count": 24,
   "metadata": {
    "ExecuteTime": {
     "end_time": "2022-03-19T18:45:36.767086Z",
     "start_time": "2022-03-19T18:45:36.456825Z"
    },
    "colab": {
     "base_uri": "https://localhost:8080/",
     "height": 749
    },
    "id": "ark3yghbWeR1",
    "outputId": "405fb83f-f56b-4851-f7c7-55f448205dd1"
   },
   "outputs": [
    {
     "data": {
      "text/plain": [
       "<AxesSubplot:title={'center':'Feature importance'}, xlabel='Feature importance', ylabel='Features'>"
      ]
     },
     "execution_count": 24,
     "metadata": {},
     "output_type": "execute_result"
    },
    {
     "data": {
      "image/png": "[encoded data removed]",
      "text/plain": [
       "<Figure size 720x864 with 1 Axes>"
      ]
     },
     "metadata": {
      "needs_background": "light"
     },
     "output_type": "display_data"
    }
   ],
   "source": [
    "from lightgbm import plot_importance\n",
    "import matplotlib.pyplot as plt\n",
    "\n",
    "fig,ax = plt.subplots(figsize=(10,12))\n",
    "plot_importance(lgbm_wrapper, ax=ax)"
   ]
  },
  {
   "cell_type": "markdown",
   "metadata": {
    "id": "186fXuPxWeR1"
   },
   "source": [
    "chlorides가 가장 중요한 피쳐, 즉 chlorides가 확률값 계산에 중요하게 작용되었다."
   ]
  },
  {
   "cell_type": "markdown",
   "metadata": {
    "id": "CtJ8XEnaWj6f"
   },
   "source": [
    "## 스태킹"
   ]
  },
  {
   "cell_type": "markdown",
   "metadata": {
    "id": "j9LpDNKwWj6f"
   },
   "source": [
    "### CV 세트 기반의 스태킹을 진행하려 한다. 개별 기반 모델들이 교차 검증을 통해 최종 메타 모델이 사용할 학습용, 테스트용 데이터를 생성하기 위한 함수를 작성하시오.\n",
    "```\n",
    "def get_stacking_base_datasets(model, X_train_n, y_train_n, X_test_n, n_folds ):\n",
    "    return train_fold_pred , test_pred_mean\n",
    "```"
   ]
  },
  {
   "cell_type": "code",
   "execution_count": 25,
   "metadata": {
    "id": "6lKMXphNWj6f"
   },
   "outputs": [],
   "source": [
    "from sklearn.model_selection import KFold\n",
    "from sklearn.metrics import mean_absolute_error\n",
    "\n",
    "# 개별 기반 모델에서 최종 메타 모델이 사용할 학습 및 테스트용 데이터를 생성하기 위한 함수. \n",
    "def get_stacking_base_datasets(model, X_train_n, y_train_n, X_test_n, n_folds ):\n",
    "    # 지정된 n_folds값으로 KFold 생성.\n",
    "    kf = KFold(n_splits=n_folds, shuffle=False, random_state=0)\n",
    "    #추후에 메타 모델이 사용할 학습 데이터 반환을 위한 넘파이 배열 초기화 \n",
    "    train_fold_pred = np.zeros((X_train_n.shape[0] ,1 ))\n",
    "    test_pred = np.zeros((X_test_n.shape[0],n_folds))\n",
    "    print(model.__class__.__name__ , ' model 시작 ')\n",
    "    \n",
    "    for folder_counter , (train_index, valid_index) in enumerate(kf.split(X_train_n)):\n",
    "        #입력된 학습 데이터에서 기반 모델이 학습/예측할 폴드 데이터 셋 추출 \n",
    "        print('\\t 폴드 세트: ',folder_counter,' 시작 ')\n",
    "        X_tr = X_train_n.iloc[train_index] \n",
    "        y_tr = y_train_n.iloc[train_index] \n",
    "        X_te = X_train_n.iloc[valid_index]  \n",
    "        \n",
    "        #폴드 세트 내부에서 다시 만들어진 학습 데이터로 기반 모델의 학습 수행.\n",
    "        model.fit(X_tr , y_tr)       \n",
    "        #폴드 세트 내부에서 다시 만들어진 검증 데이터로 기반 모델 예측 후 데이터 저장.\n",
    "        train_fold_pred[valid_index, :] = model.predict(X_te).reshape(-1,1)\n",
    "        #입력된 원본 테스트 데이터를 폴드 세트내 학습된 기반 모델에서 예측 후 데이터 저장. \n",
    "        test_pred[:, folder_counter] = model.predict(X_test_n)\n",
    "            \n",
    "    # 폴드 세트 내에서 원본 테스트 데이터를 예측한 데이터를 평균하여 테스트 데이터로 생성 \n",
    "    test_pred_mean = np.mean(test_pred, axis=1).reshape(-1,1)    \n",
    "    \n",
    "    #train_fold_pred는 최종 메타 모델이 사용하는 학습 데이터, test_pred_mean은 테스트 데이터\n",
    "    return train_fold_pred , test_pred_mean"
   ]
  },
  {
   "cell_type": "markdown",
   "metadata": {
    "id": "iqw-WOXKWj6g"
   },
   "source": [
    "### 스태킹에 사용될 머신러닝 알고리즘 클래스를 생성하시오.\n",
    "- 개별 모델: KNN(n_neighbors=4), 랜덤 포레스트(n_estimators=100, random_state=0), 결정 트리, 에이다부스트(n_estimators=100), LightGBM(n_estimators=400)\n",
    "- 최종 모델: 로지스틱 회귀(C=10)"
   ]
  },
  {
   "cell_type": "code",
   "execution_count": 26,
   "metadata": {
    "id": "HFhzP48LWj6g"
   },
   "outputs": [],
   "source": [
    "import numpy as np\n",
    "\n",
    "from sklearn.neighbors import KNeighborsClassifier\n",
    "from sklearn.ensemble import RandomForestClassifier\n",
    "from sklearn.ensemble import AdaBoostClassifier\n",
    "from sklearn.tree import DecisionTreeClassifier\n",
    "from lightgbm import LGBMClassifier\n",
    "from sklearn.linear_model import LogisticRegression\n",
    "\n",
    "# 개별 ML 모델을 위한 Classifier 생성.\n",
    "knn_clf  = KNeighborsClassifier(n_neighbors=4)\n",
    "rf_clf = RandomForestClassifier(n_estimators=100,random_state=0)\n",
    "dt_clf = DecisionTreeClassifier()\n",
    "ada_clf = AdaBoostClassifier(n_estimators=100)\n",
    "lgbm_clf = LGBMClassifier(n_estimators=400)\n",
    "\n",
    "# 최종 Stacking 모델을 위한 Classifier생성. \n",
    "lr_final = LogisticRegression(C=10)"
   ]
  },
  {
   "cell_type": "markdown",
   "metadata": {
    "id": "k59c10E5Wj6g"
   },
   "source": [
    "### 개별 모델별로 get_stacking_base_datasets 함수를 수행하여 최종 메타 모델이 사용할 학습용, 테스트용 데이터를 생성하시오.\n",
    "- 폴드 개수는 7개"
   ]
  },
  {
   "cell_type": "code",
   "execution_count": 27,
   "metadata": {
    "colab": {
     "base_uri": "https://localhost:8080/"
    },
    "id": "LwDY0iY_Wj6h",
    "outputId": "12a3d39f-0eab-4dd4-9a92-f5e9dfcb64fc"
   },
   "outputs": [
    {
     "name": "stdout",
     "output_type": "stream",
     "text": [
      "KNeighborsClassifier  model 시작 \n",
      "\t 폴드 세트:  0  시작 \n",
      "\t 폴드 세트:  1  시작 \n",
      "\t 폴드 세트:  2  시작 \n",
      "\t 폴드 세트:  3  시작 \n",
      "\t 폴드 세트:  4  시작 \n",
      "\t 폴드 세트:  5  시작 \n",
      "\t 폴드 세트:  6  시작 \n",
      "RandomForestClassifier  model 시작 \n",
      "\t 폴드 세트:  0  시작 \n",
      "\t 폴드 세트:  1  시작 \n",
      "\t 폴드 세트:  2  시작 \n",
      "\t 폴드 세트:  3  시작 \n",
      "\t 폴드 세트:  4  시작 \n",
      "\t 폴드 세트:  5  시작 \n",
      "\t 폴드 세트:  6  시작 \n",
      "DecisionTreeClassifier  model 시작 \n",
      "\t 폴드 세트:  0  시작 \n",
      "\t 폴드 세트:  1  시작 \n",
      "\t 폴드 세트:  2  시작 \n",
      "\t 폴드 세트:  3  시작 \n",
      "\t 폴드 세트:  4  시작 \n",
      "\t 폴드 세트:  5  시작 \n",
      "\t 폴드 세트:  6  시작 \n",
      "AdaBoostClassifier  model 시작 \n",
      "\t 폴드 세트:  0  시작 \n",
      "\t 폴드 세트:  1  시작 \n",
      "\t 폴드 세트:  2  시작 \n",
      "\t 폴드 세트:  3  시작 \n",
      "\t 폴드 세트:  4  시작 \n",
      "\t 폴드 세트:  5  시작 \n",
      "\t 폴드 세트:  6  시작 \n",
      "LGBMClassifier  model 시작 \n",
      "\t 폴드 세트:  0  시작 \n",
      "\t 폴드 세트:  1  시작 \n",
      "\t 폴드 세트:  2  시작 \n",
      "\t 폴드 세트:  3  시작 \n",
      "\t 폴드 세트:  4  시작 \n",
      "\t 폴드 세트:  5  시작 \n",
      "\t 폴드 세트:  6  시작 \n"
     ]
    }
   ],
   "source": [
    "knn_train, knn_test = get_stacking_base_datasets(knn_clf, X_train, y_train, X_test, 7)\n",
    "rf_train, rf_test = get_stacking_base_datasets(rf_clf, X_train, y_train, X_test, 7)\n",
    "dt_train, dt_test = get_stacking_base_datasets(dt_clf, X_train, y_train, X_test,  7)    \n",
    "ada_train, ada_test = get_stacking_base_datasets(ada_clf, X_train, y_train, X_test, 7)\n",
    "lgbm_train, lgbm_test = get_stacking_base_datasets(lgbm_clf, X_train, y_train, X_test, 7)"
   ]
  },
  {
   "cell_type": "markdown",
   "metadata": {
    "id": "mNhahQcCWj6h"
   },
   "source": [
    "### 생성된 학습용 데이터와 테스트용 데이터를 각각 합치시오.\n",
    "- 학습용 데이터는 Stack_final_X_train\n",
    "- 테스트용 데이터는 Stack_final_X_test"
   ]
  },
  {
   "cell_type": "code",
   "execution_count": 28,
   "metadata": {
    "colab": {
     "base_uri": "https://localhost:8080/"
    },
    "id": "VtLJU9xmWj6h",
    "outputId": "51e043d9-d27f-4b65-8129-dc600ad47dcd"
   },
   "outputs": [
    {
     "name": "stdout",
     "output_type": "stream",
     "text": [
      "원본 학습 피처 데이터 Shape: (4397, 12) 원본 테스트 피처 Shape: (1100, 12)\n",
      "스태킹 학습 피처 데이터 Shape: (4397, 5) 스태킹 테스트 피처 데이터 Shape: (1100, 5)\n"
     ]
    }
   ],
   "source": [
    "Stack_final_X_train = np.concatenate((knn_train, rf_train, dt_train, ada_train, lgbm_train), axis=1)\n",
    "Stack_final_X_test = np.concatenate((knn_test, rf_test, dt_test, ada_test, lgbm_test), axis=1)\n",
    "# 잘 진행되었는지 shape 확인\n",
    "print('원본 학습 피처 데이터 Shape:',X_train.shape, '원본 테스트 피처 Shape:',X_test.shape)\n",
    "print('스태킹 학습 피처 데이터 Shape:', Stack_final_X_train.shape,\n",
    "      '스태킹 테스트 피처 데이터 Shape:',Stack_final_X_test.shape)"
   ]
  },
  {
   "cell_type": "markdown",
   "metadata": {
    "id": "PnPGTIxdWj6h"
   },
   "source": [
    "### 최종 메타 모델인 로지스틱 회귀를 사용하여 학습 및 예측을 진행하고 최종 메타 모델의 예측 정확도를 출력하시오."
   ]
  },
  {
   "cell_type": "code",
   "execution_count": 29,
   "metadata": {
    "colab": {
     "base_uri": "https://localhost:8080/"
    },
    "id": "5IRwziPWWj6h",
    "outputId": "03041730-7ad3-419d-d152-9061c822d3fd"
   },
   "outputs": [
    {
     "name": "stdout",
     "output_type": "stream",
     "text": [
      "최종 메타 모델의 예측 정확도: 0.6209\n"
     ]
    }
   ],
   "source": [
    "lr_final.fit(Stack_final_X_train, y_train)\n",
    "stack_final = lr_final.predict(Stack_final_X_test)\n",
    "\n",
    "print('최종 메타 모델의 예측 정확도: {0:.4f}'.format(accuracy_score(y_test, stack_final)))"
   ]
  },
  {
   "cell_type": "markdown",
   "metadata": {
    "id": "SVA3yGXXnL-q"
   },
   "source": [
    "# 버섯 독성 여부 분류 - CatBoost 실습"
   ]
  },
  {
   "cell_type": "markdown",
   "metadata": {
    "id": "47mLiwS1nL-t"
   },
   "source": [
    "mushrooms.csv 파일을 사용합니다.\n",
    "\n",
    "독성 버섯인지 식용 가능한 버섯인지 분류해내는 것이 목표입니다.\n",
    "\n",
    "- cap-shape: bell=b,conical=c,convex=x,flat=f, knobbed=k,sunken=s\n",
    "- cap-surface: fibrous=f,grooves=g,scaly=y,smooth=s\n",
    "- cap-color: brown=n,buff=b,cinnamon=c,gray=g,green=r,pink=p,purple=u,red=e,white=w,yellow=y\n",
    "- bruises: bruises=t,no=f\n",
    "- odor: almond=a,anise=l,creosote=c,fishy=y,foul=f,musty=m,none=n,pungent=p,spicy=s\n",
    "- gill-attachment: attached=a,descending=d,free=f,notched=n\n",
    "- gill-spacing: close=c,crowded=w,distant=d\n",
    "- gill-size: broad=b,narrow=n\n",
    "- gill-color: black=k,brown=n,buff=b,chocolate=h,gray=g, green=r,orange=o,pink=p,purple=u,red=e,white=w,yellow=y\n",
    "- stalk-shape: enlarging=e,tapering=t\n",
    "- stalk-root: bulbous=b,club=c,cup=u,equal=e,rhizomorphs=z,rooted=r,missing=?\n",
    "- stalk-surface-above-ring: fibrous=f,scaly=y,silky=k,smooth=s\n",
    "- stalk-surface-below-ring: fibrous=f,scaly=y,silky=k,smooth=s\n",
    "- stalk-color-above-ring: brown=n,buff=b,cinnamon=c,gray=g,orange=o,pink=p,red=e,white=w,yellow=y\n",
    "- stalk-color-below-ring: brown=n,buff=b,cinnamon=c,gray=g,orange=o,pink=p,red=e,white=w,yellow=y\n",
    "- veil-type: partial=p,universal=u\n",
    "- veil-color: brown=n,orange=o,white=w,yellow=y\n",
    "- ring-number: none=n,one=o,two=t\n",
    "- ring-type: cobwebby=c,evanescent=e,flaring=f,large=l,none=n,pendant=p,sheathing=s,zone=z\n",
    "- spore-print-color: black=k,brown=n,buff=b,chocolate=h,green=r,orange=o,purple=u,white=w,yellow=y\n",
    "- population: abundant=a,clustered=c,numerous=n,scattered=s,several=v,solitary=y\n",
    "- habitat: grasses=g,leaves=l,meadows=m,paths=p,urban=u,waste=w,woods=d\n",
    "\n",
    "데이터셋 출처: https://www.kaggle.com/datasets/uciml/mushroom-classification"
   ]
  },
  {
   "cell_type": "code",
   "execution_count": 30,
   "metadata": {
    "id": "7yg7ZwOLnL-v"
   },
   "outputs": [],
   "source": [
    "#필요한 라이브러리 import\n",
    "import pandas as pd\n",
    "import numpy as np"
   ]
  },
  {
   "cell_type": "code",
   "execution_count": 31,
   "metadata": {
    "id": "ns9sal4onL-x"
   },
   "outputs": [],
   "source": [
    "#데이터셋 불러오기\n",
    "mushroom = pd.read_csv('mushrooms.csv')"
   ]
  },
  {
   "cell_type": "markdown",
   "metadata": {
    "id": "VopHpuxRnL-y"
   },
   "source": [
    "## 데이터 전처리"
   ]
  },
  {
   "cell_type": "markdown",
   "metadata": {
    "id": "GvbNYXIanL-y"
   },
   "source": [
    "### info()를 통해 결측치가 있는지 확인하시오."
   ]
  },
  {
   "cell_type": "code",
   "execution_count": 32,
   "metadata": {
    "colab": {
     "base_uri": "https://localhost:8080/"
    },
    "id": "QnHZIjKVnL-z",
    "outputId": "c65376cc-54d9-4713-ccbf-ee76c257a0d4"
   },
   "outputs": [
    {
     "name": "stdout",
     "output_type": "stream",
     "text": [
      "<class 'pandas.core.frame.DataFrame'>\n",
      "RangeIndex: 8124 entries, 0 to 8123\n",
      "Data columns (total 23 columns):\n",
      " #   Column                    Non-Null Count  Dtype \n",
      "---  ------                    --------------  ----- \n",
      " 0   class                     8124 non-null   object\n",
      " 1   cap-shape                 8124 non-null   object\n",
      " 2   cap-surface               8124 non-null   object\n",
      " 3   cap-color                 8124 non-null   object\n",
      " 4   bruises                   8124 non-null   object\n",
      " 5   odor                      8124 non-null   object\n",
      " 6   gill-attachment           8124 non-null   object\n",
      " 7   gill-spacing              8124 non-null   object\n",
      " 8   gill-size                 8124 non-null   object\n",
      " 9   gill-color                8124 non-null   object\n",
      " 10  stalk-shape               8124 non-null   object\n",
      " 11  stalk-root                8124 non-null   object\n",
      " 12  stalk-surface-above-ring  8124 non-null   object\n",
      " 13  stalk-surface-below-ring  8124 non-null   object\n",
      " 14  stalk-color-above-ring    8124 non-null   object\n",
      " 15  stalk-color-below-ring    8124 non-null   object\n",
      " 16  veil-type                 8124 non-null   object\n",
      " 17  veil-color                8124 non-null   object\n",
      " 18  ring-number               8124 non-null   object\n",
      " 19  ring-type                 8124 non-null   object\n",
      " 20  spore-print-color         8124 non-null   object\n",
      " 21  population                8124 non-null   object\n",
      " 22  habitat                   8124 non-null   object\n",
      "dtypes: object(23)\n",
      "memory usage: 1.4+ MB\n"
     ]
    }
   ],
   "source": [
    "mushroom.info()"
   ]
  },
  {
   "cell_type": "markdown",
   "metadata": {
    "id": "MrKzuv0LnL-0"
   },
   "source": [
    "결측치 없고 모두 카테고리 변수"
   ]
  },
  {
   "cell_type": "markdown",
   "metadata": {
    "id": "WGMicxOpnL-1"
   },
   "source": [
    "### 데이터에서 피쳐값과 타겟값을 분리하여 각각 X_mushroom, y_mushroom으로 저장하시오\n",
    "- target은 class"
   ]
  },
  {
   "cell_type": "code",
   "execution_count": 33,
   "metadata": {
    "id": "5kzCCOj_nL-1"
   },
   "outputs": [],
   "source": [
    "X_mushroom = mushroom.drop(['class'], axis=1)\n",
    "y_mushroom = mushroom['class']"
   ]
  },
  {
   "cell_type": "code",
   "execution_count": 34,
   "metadata": {
    "colab": {
     "base_uri": "https://localhost:8080/",
     "height": 289
    },
    "id": "nYyQ0jFFnL-2",
    "outputId": "e8de95ca-6130-4ff7-97d7-7b7466fadbfe"
   },
   "outputs": [
    {
     "data": {
      "text/html": [
       "<div>\n",
       "<style scoped>\n",
       "    .dataframe tbody tr th:only-of-type {\n",
       "        vertical-align: middle;\n",
       "    }\n",
       "\n",
       "    .dataframe tbody tr th {\n",
       "        vertical-align: top;\n",
       "    }\n",
       "\n",
       "    .dataframe thead th {\n",
       "        text-align: right;\n",
       "    }\n",
       "</style>\n",
       "<table border=\"1\" class=\"dataframe\">\n",
       "  <thead>\n",
       "    <tr style=\"text-align: right;\">\n",
       "      <th></th>\n",
       "      <th>cap-shape</th>\n",
       "      <th>cap-surface</th>\n",
       "      <th>cap-color</th>\n",
       "      <th>bruises</th>\n",
       "      <th>odor</th>\n",
       "      <th>gill-attachment</th>\n",
       "      <th>gill-spacing</th>\n",
       "      <th>gill-size</th>\n",
       "      <th>gill-color</th>\n",
       "      <th>stalk-shape</th>\n",
       "      <th>...</th>\n",
       "      <th>stalk-surface-below-ring</th>\n",
       "      <th>stalk-color-above-ring</th>\n",
       "      <th>stalk-color-below-ring</th>\n",
       "      <th>veil-type</th>\n",
       "      <th>veil-color</th>\n",
       "      <th>ring-number</th>\n",
       "      <th>ring-type</th>\n",
       "      <th>spore-print-color</th>\n",
       "      <th>population</th>\n",
       "      <th>habitat</th>\n",
       "    </tr>\n",
       "  </thead>\n",
       "  <tbody>\n",
       "    <tr>\n",
       "      <th>0</th>\n",
       "      <td>x</td>\n",
       "      <td>s</td>\n",
       "      <td>n</td>\n",
       "      <td>t</td>\n",
       "      <td>p</td>\n",
       "      <td>f</td>\n",
       "      <td>c</td>\n",
       "      <td>n</td>\n",
       "      <td>k</td>\n",
       "      <td>e</td>\n",
       "      <td>...</td>\n",
       "      <td>s</td>\n",
       "      <td>w</td>\n",
       "      <td>w</td>\n",
       "      <td>p</td>\n",
       "      <td>w</td>\n",
       "      <td>o</td>\n",
       "      <td>p</td>\n",
       "      <td>k</td>\n",
       "      <td>s</td>\n",
       "      <td>u</td>\n",
       "    </tr>\n",
       "    <tr>\n",
       "      <th>1</th>\n",
       "      <td>x</td>\n",
       "      <td>s</td>\n",
       "      <td>y</td>\n",
       "      <td>t</td>\n",
       "      <td>a</td>\n",
       "      <td>f</td>\n",
       "      <td>c</td>\n",
       "      <td>b</td>\n",
       "      <td>k</td>\n",
       "      <td>e</td>\n",
       "      <td>...</td>\n",
       "      <td>s</td>\n",
       "      <td>w</td>\n",
       "      <td>w</td>\n",
       "      <td>p</td>\n",
       "      <td>w</td>\n",
       "      <td>o</td>\n",
       "      <td>p</td>\n",
       "      <td>n</td>\n",
       "      <td>n</td>\n",
       "      <td>g</td>\n",
       "    </tr>\n",
       "    <tr>\n",
       "      <th>2</th>\n",
       "      <td>b</td>\n",
       "      <td>s</td>\n",
       "      <td>w</td>\n",
       "      <td>t</td>\n",
       "      <td>l</td>\n",
       "      <td>f</td>\n",
       "      <td>c</td>\n",
       "      <td>b</td>\n",
       "      <td>n</td>\n",
       "      <td>e</td>\n",
       "      <td>...</td>\n",
       "      <td>s</td>\n",
       "      <td>w</td>\n",
       "      <td>w</td>\n",
       "      <td>p</td>\n",
       "      <td>w</td>\n",
       "      <td>o</td>\n",
       "      <td>p</td>\n",
       "      <td>n</td>\n",
       "      <td>n</td>\n",
       "      <td>m</td>\n",
       "    </tr>\n",
       "  </tbody>\n",
       "</table>\n",
       "<p>3 rows × 22 columns</p>\n",
       "</div>"
      ],
      "text/plain": [
       "  cap-shape cap-surface cap-color bruises odor gill-attachment gill-spacing  \\\n",
       "0         x           s         n       t    p               f            c   \n",
       "1         x           s         y       t    a               f            c   \n",
       "2         b           s         w       t    l               f            c   \n",
       "\n",
       "  gill-size gill-color stalk-shape  ... stalk-surface-below-ring  \\\n",
       "0         n          k           e  ...                        s   \n",
       "1         b          k           e  ...                        s   \n",
       "2         b          n           e  ...                        s   \n",
       "\n",
       "  stalk-color-above-ring stalk-color-below-ring veil-type veil-color  \\\n",
       "0                      w                      w         p          w   \n",
       "1                      w                      w         p          w   \n",
       "2                      w                      w         p          w   \n",
       "\n",
       "  ring-number ring-type spore-print-color population habitat  \n",
       "0           o         p                 k          s       u  \n",
       "1           o         p                 n          n       g  \n",
       "2           o         p                 n          n       m  \n",
       "\n",
       "[3 rows x 22 columns]"
      ]
     },
     "execution_count": 34,
     "metadata": {},
     "output_type": "execute_result"
    }
   ],
   "source": [
    "#데이터 확인(X_mushroom)\n",
    "X_mushroom.head(3)"
   ]
  },
  {
   "cell_type": "code",
   "execution_count": 35,
   "metadata": {
    "colab": {
     "base_uri": "https://localhost:8080/"
    },
    "id": "OeqnWCesnL-2",
    "outputId": "ae83e7f3-3bb6-47fc-dd2c-8978b372e4bc"
   },
   "outputs": [
    {
     "data": {
      "text/plain": [
       "0    p\n",
       "1    e\n",
       "2    e\n",
       "Name: class, dtype: object"
      ]
     },
     "execution_count": 35,
     "metadata": {},
     "output_type": "execute_result"
    }
   ],
   "source": [
    "#데이터 확인(y_mushroom)\n",
    "y_mushroom.head(3)"
   ]
  },
  {
   "cell_type": "markdown",
   "metadata": {
    "id": "Pvw9LEfEnL-3"
   },
   "source": [
    "### train_test_split()을 이용해 train set과 test set을 분리하시오."
   ]
  },
  {
   "cell_type": "code",
   "execution_count": 36,
   "metadata": {
    "id": "bPgG4UnanL-3"
   },
   "outputs": [],
   "source": [
    "from sklearn.model_selection import train_test_split\n",
    "X_train, X_test, y_train, y_test = train_test_split(X_mushroom, y_mushroom, test_size=0.2, random_state=123)"
   ]
  },
  {
   "cell_type": "code",
   "execution_count": 37,
   "metadata": {
    "colab": {
     "base_uri": "https://localhost:8080/"
    },
    "id": "35VxeZywnL-4",
    "outputId": "33740c7f-3b01-495c-bfac-af9ce03498a3"
   },
   "outputs": [
    {
     "name": "stdout",
     "output_type": "stream",
     "text": [
      "(6499, 22) (1625, 22)\n"
     ]
    }
   ],
   "source": [
    "#잘 분리되었는지 확인\n",
    "print(X_train.shape, X_test.shape)"
   ]
  },
  {
   "cell_type": "markdown",
   "metadata": {
    "id": "4xUNumiSnL-4"
   },
   "source": [
    "### CatBoost를 진행할 수 있도록 범주형 변수를 처리하시오.\n",
    "- trainset은 train_pool에 저장\n",
    "- testset은 test_pool에 저장"
   ]
  },
  {
   "cell_type": "code",
   "execution_count": 38,
   "metadata": {
    "id": "fG4hxm9CnL-5"
   },
   "outputs": [],
   "source": [
    "from catboost import Pool\n",
    "\n",
    "train_pool = Pool(data=X_train, label=y_train,\n",
    "                  cat_features = ['cap-shape', 'cap-surface', 'cap-color', 'bruises', 'odor','gill-attachment', 'gill-spacing', 'gill-size', 'gill-color','stalk-shape', 'stalk-root', 'stalk-surface-above-ring','stalk-surface-below-ring', 'stalk-color-above-ring','stalk-color-below-ring', 'veil-type', 'veil-color', 'ring-number','ring-type', 'spore-print-color', 'population', 'habitat'])\n",
    "test_pool = Pool(data=X_test, label=y_test,\n",
    "                 cat_features = ['cap-shape', 'cap-surface', 'cap-color', 'bruises', 'odor','gill-attachment', 'gill-spacing', 'gill-size', 'gill-color','stalk-shape', 'stalk-root', 'stalk-surface-above-ring','stalk-surface-below-ring', 'stalk-color-above-ring','stalk-color-below-ring', 'veil-type', 'veil-color', 'ring-number','ring-type', 'spore-print-color', 'population', 'habitat'])"
   ]
  },
  {
   "cell_type": "markdown",
   "metadata": {
    "id": "uJ08pr0VnL-5"
   },
   "source": [
    "### CatBoost 모델을 기반으로 버섯에 대한 정보를 학습하고 버섯의 독성 여부를 예측하시오.\n",
    "- iteration=400, learning_rate=0.1, max_depth=3\n",
    "- catb_predes, catb_pred_proba"
   ]
  },
  {
   "cell_type": "code",
   "execution_count": 39,
   "metadata": {
    "colab": {
     "base_uri": "https://localhost:8080/"
    },
    "id": "EGn89l-cnL-5",
    "outputId": "b2a79d8d-46ae-4d52-e4e4-677d8a93f17c"
   },
   "outputs": [
    {
     "name": "stdout",
     "output_type": "stream",
     "text": [
      "0:\tlearn: 0.4779436\ttotal: 166ms\tremaining: 1m 6s\n",
      "1:\tlearn: 0.3395324\ttotal: 194ms\tremaining: 38.7s\n",
      "2:\tlearn: 0.2347481\ttotal: 229ms\tremaining: 30.3s\n",
      "3:\tlearn: 0.1785895\ttotal: 264ms\tremaining: 26.1s\n",
      "4:\tlearn: 0.1317549\ttotal: 296ms\tremaining: 23.4s\n",
      "5:\tlearn: 0.0871102\ttotal: 324ms\tremaining: 21.3s\n",
      "6:\tlearn: 0.0678277\ttotal: 348ms\tremaining: 19.5s\n",
      "7:\tlearn: 0.0552047\ttotal: 377ms\tremaining: 18.5s\n",
      "8:\tlearn: 0.0458919\ttotal: 402ms\tremaining: 17.5s\n",
      "9:\tlearn: 0.0391817\ttotal: 433ms\tremaining: 16.9s\n",
      "10:\tlearn: 0.0357411\ttotal: 468ms\tremaining: 16.5s\n",
      "11:\tlearn: 0.0310481\ttotal: 500ms\tremaining: 16.2s\n",
      "12:\tlearn: 0.0272550\ttotal: 533ms\tremaining: 15.9s\n",
      "13:\tlearn: 0.0245675\ttotal: 568ms\tremaining: 15.7s\n",
      "14:\tlearn: 0.0220894\ttotal: 606ms\tremaining: 15.5s\n",
      "15:\tlearn: 0.0204985\ttotal: 639ms\tremaining: 15.3s\n",
      "16:\tlearn: 0.0190451\ttotal: 678ms\tremaining: 15.3s\n",
      "17:\tlearn: 0.0177786\ttotal: 715ms\tremaining: 15.2s\n",
      "18:\tlearn: 0.0164332\ttotal: 754ms\tremaining: 15.1s\n",
      "19:\tlearn: 0.0155367\ttotal: 794ms\tremaining: 15.1s\n",
      "20:\tlearn: 0.0152527\ttotal: 836ms\tremaining: 15.1s\n",
      "21:\tlearn: 0.0149587\ttotal: 865ms\tremaining: 14.9s\n",
      "22:\tlearn: 0.0146520\ttotal: 890ms\tremaining: 14.6s\n",
      "23:\tlearn: 0.0134291\ttotal: 918ms\tremaining: 14.4s\n",
      "24:\tlearn: 0.0123765\ttotal: 954ms\tremaining: 14.3s\n",
      "25:\tlearn: 0.0122626\ttotal: 995ms\tremaining: 14.3s\n",
      "26:\tlearn: 0.0111123\ttotal: 1.03s\tremaining: 14.2s\n",
      "27:\tlearn: 0.0107787\ttotal: 1.06s\tremaining: 14.1s\n",
      "28:\tlearn: 0.0102028\ttotal: 1.09s\tremaining: 14s\n",
      "29:\tlearn: 0.0101046\ttotal: 1.13s\tremaining: 13.9s\n",
      "30:\tlearn: 0.0100675\ttotal: 1.15s\tremaining: 13.7s\n",
      "31:\tlearn: 0.0095279\ttotal: 1.18s\tremaining: 13.6s\n",
      "32:\tlearn: 0.0095063\ttotal: 1.21s\tremaining: 13.5s\n",
      "33:\tlearn: 0.0094621\ttotal: 1.24s\tremaining: 13.3s\n",
      "34:\tlearn: 0.0094191\ttotal: 1.27s\tremaining: 13.3s\n",
      "35:\tlearn: 0.0093727\ttotal: 1.31s\tremaining: 13.2s\n",
      "36:\tlearn: 0.0093120\ttotal: 1.34s\tremaining: 13.2s\n",
      "37:\tlearn: 0.0087305\ttotal: 1.38s\tremaining: 13.1s\n",
      "38:\tlearn: 0.0087305\ttotal: 1.41s\tremaining: 13s\n",
      "39:\tlearn: 0.0086593\ttotal: 1.44s\tremaining: 13s\n",
      "40:\tlearn: 0.0086164\ttotal: 1.48s\tremaining: 12.9s\n",
      "41:\tlearn: 0.0085912\ttotal: 1.51s\tremaining: 12.9s\n",
      "42:\tlearn: 0.0085501\ttotal: 1.55s\tremaining: 12.9s\n",
      "43:\tlearn: 0.0083047\ttotal: 1.57s\tremaining: 12.7s\n",
      "44:\tlearn: 0.0082673\ttotal: 1.6s\tremaining: 12.6s\n",
      "45:\tlearn: 0.0082054\ttotal: 1.62s\tremaining: 12.5s\n",
      "46:\tlearn: 0.0080143\ttotal: 1.65s\tremaining: 12.4s\n",
      "47:\tlearn: 0.0074235\ttotal: 1.68s\tremaining: 12.3s\n",
      "48:\tlearn: 0.0072545\ttotal: 1.7s\tremaining: 12.2s\n",
      "49:\tlearn: 0.0072351\ttotal: 1.73s\tremaining: 12.1s\n",
      "50:\tlearn: 0.0072350\ttotal: 1.76s\tremaining: 12.1s\n",
      "51:\tlearn: 0.0070016\ttotal: 1.8s\tremaining: 12.1s\n",
      "52:\tlearn: 0.0069860\ttotal: 1.84s\tremaining: 12.1s\n",
      "53:\tlearn: 0.0069158\ttotal: 1.88s\tremaining: 12s\n",
      "54:\tlearn: 0.0069157\ttotal: 1.92s\tremaining: 12s\n",
      "55:\tlearn: 0.0069157\ttotal: 1.96s\tremaining: 12.1s\n",
      "56:\tlearn: 0.0068973\ttotal: 2s\tremaining: 12s\n",
      "57:\tlearn: 0.0068973\ttotal: 2.03s\tremaining: 12s\n",
      "58:\tlearn: 0.0068973\ttotal: 2.07s\tremaining: 11.9s\n",
      "59:\tlearn: 0.0067647\ttotal: 2.1s\tremaining: 11.9s\n",
      "60:\tlearn: 0.0065739\ttotal: 2.14s\tremaining: 11.9s\n",
      "61:\tlearn: 0.0065739\ttotal: 2.17s\tremaining: 11.9s\n",
      "62:\tlearn: 0.0065696\ttotal: 2.21s\tremaining: 11.8s\n",
      "63:\tlearn: 0.0065696\ttotal: 2.24s\tremaining: 11.8s\n",
      "64:\tlearn: 0.0064650\ttotal: 2.27s\tremaining: 11.7s\n",
      "65:\tlearn: 0.0063848\ttotal: 2.31s\tremaining: 11.7s\n",
      "66:\tlearn: 0.0060166\ttotal: 2.35s\tremaining: 11.7s\n",
      "67:\tlearn: 0.0059462\ttotal: 2.39s\tremaining: 11.7s\n",
      "68:\tlearn: 0.0054640\ttotal: 2.42s\tremaining: 11.6s\n",
      "69:\tlearn: 0.0054292\ttotal: 2.46s\tremaining: 11.6s\n",
      "70:\tlearn: 0.0054132\ttotal: 2.49s\tremaining: 11.5s\n",
      "71:\tlearn: 0.0053868\ttotal: 2.52s\tremaining: 11.5s\n",
      "72:\tlearn: 0.0053588\ttotal: 2.56s\tremaining: 11.5s\n",
      "73:\tlearn: 0.0051683\ttotal: 2.59s\tremaining: 11.4s\n",
      "74:\tlearn: 0.0048576\ttotal: 2.62s\tremaining: 11.3s\n",
      "75:\tlearn: 0.0048575\ttotal: 2.65s\tremaining: 11.3s\n",
      "76:\tlearn: 0.0047466\ttotal: 2.68s\tremaining: 11.2s\n",
      "77:\tlearn: 0.0046572\ttotal: 2.71s\tremaining: 11.2s\n",
      "78:\tlearn: 0.0046572\ttotal: 2.74s\tremaining: 11.2s\n",
      "79:\tlearn: 0.0045350\ttotal: 2.78s\tremaining: 11.1s\n",
      "80:\tlearn: 0.0043571\ttotal: 2.82s\tremaining: 11.1s\n",
      "81:\tlearn: 0.0043571\ttotal: 2.85s\tremaining: 11.1s\n",
      "82:\tlearn: 0.0043516\ttotal: 2.88s\tremaining: 11s\n",
      "83:\tlearn: 0.0043516\ttotal: 2.92s\tremaining: 11s\n",
      "84:\tlearn: 0.0041990\ttotal: 2.95s\tremaining: 10.9s\n",
      "85:\tlearn: 0.0040980\ttotal: 2.98s\tremaining: 10.9s\n",
      "86:\tlearn: 0.0040668\ttotal: 3.05s\tremaining: 11s\n",
      "87:\tlearn: 0.0040482\ttotal: 3.08s\tremaining: 10.9s\n",
      "88:\tlearn: 0.0040061\ttotal: 3.12s\tremaining: 10.9s\n",
      "89:\tlearn: 0.0038147\ttotal: 3.15s\tremaining: 10.9s\n",
      "90:\tlearn: 0.0037472\ttotal: 3.18s\tremaining: 10.8s\n",
      "91:\tlearn: 0.0037472\ttotal: 3.23s\tremaining: 10.8s\n",
      "92:\tlearn: 0.0037396\ttotal: 3.26s\tremaining: 10.8s\n",
      "93:\tlearn: 0.0037277\ttotal: 3.3s\tremaining: 10.7s\n",
      "94:\tlearn: 0.0037054\ttotal: 3.33s\tremaining: 10.7s\n",
      "95:\tlearn: 0.0037054\ttotal: 3.36s\tremaining: 10.7s\n",
      "96:\tlearn: 0.0037054\ttotal: 3.39s\tremaining: 10.6s\n",
      "97:\tlearn: 0.0034844\ttotal: 3.42s\tremaining: 10.5s\n",
      "98:\tlearn: 0.0034476\ttotal: 3.45s\tremaining: 10.5s\n",
      "99:\tlearn: 0.0034361\ttotal: 3.48s\tremaining: 10.5s\n",
      "100:\tlearn: 0.0034360\ttotal: 3.51s\tremaining: 10.4s\n",
      "101:\tlearn: 0.0034360\ttotal: 3.54s\tremaining: 10.4s\n",
      "102:\tlearn: 0.0034133\ttotal: 3.58s\tremaining: 10.3s\n",
      "103:\tlearn: 0.0033540\ttotal: 3.6s\tremaining: 10.3s\n",
      "104:\tlearn: 0.0033540\ttotal: 3.63s\tremaining: 10.2s\n",
      "105:\tlearn: 0.0033519\ttotal: 3.66s\tremaining: 10.2s\n",
      "106:\tlearn: 0.0033029\ttotal: 3.7s\tremaining: 10.1s\n",
      "107:\tlearn: 0.0032909\ttotal: 3.73s\tremaining: 10.1s\n",
      "108:\tlearn: 0.0032555\ttotal: 3.77s\tremaining: 10.1s\n",
      "109:\tlearn: 0.0032155\ttotal: 3.8s\tremaining: 10s\n",
      "110:\tlearn: 0.0032061\ttotal: 3.83s\tremaining: 9.96s\n",
      "111:\tlearn: 0.0032061\ttotal: 3.86s\tremaining: 9.92s\n",
      "112:\tlearn: 0.0032061\ttotal: 3.89s\tremaining: 9.88s\n",
      "113:\tlearn: 0.0032061\ttotal: 3.92s\tremaining: 9.85s\n",
      "114:\tlearn: 0.0031816\ttotal: 3.96s\tremaining: 9.82s\n",
      "115:\tlearn: 0.0031732\ttotal: 4.02s\tremaining: 9.85s\n",
      "116:\tlearn: 0.0031657\ttotal: 4.06s\tremaining: 9.81s\n",
      "117:\tlearn: 0.0031657\ttotal: 4.09s\tremaining: 9.78s\n",
      "118:\tlearn: 0.0031264\ttotal: 4.13s\tremaining: 9.75s\n",
      "119:\tlearn: 0.0031264\ttotal: 4.16s\tremaining: 9.72s\n",
      "120:\tlearn: 0.0031200\ttotal: 4.19s\tremaining: 9.67s\n",
      "121:\tlearn: 0.0031200\ttotal: 4.22s\tremaining: 9.62s\n",
      "122:\tlearn: 0.0031200\ttotal: 4.25s\tremaining: 9.58s\n",
      "123:\tlearn: 0.0030951\ttotal: 4.29s\tremaining: 9.55s\n",
      "124:\tlearn: 0.0030873\ttotal: 4.33s\tremaining: 9.52s\n",
      "125:\tlearn: 0.0030873\ttotal: 4.36s\tremaining: 9.48s\n",
      "126:\tlearn: 0.0030872\ttotal: 4.39s\tremaining: 9.44s\n",
      "127:\tlearn: 0.0030820\ttotal: 4.42s\tremaining: 9.4s\n",
      "128:\tlearn: 0.0030820\ttotal: 4.46s\tremaining: 9.36s\n",
      "129:\tlearn: 0.0030819\ttotal: 4.49s\tremaining: 9.32s\n",
      "130:\tlearn: 0.0030771\ttotal: 4.52s\tremaining: 9.28s\n",
      "131:\tlearn: 0.0030771\ttotal: 4.56s\tremaining: 9.26s\n",
      "132:\tlearn: 0.0030461\ttotal: 4.6s\tremaining: 9.23s\n",
      "133:\tlearn: 0.0030461\ttotal: 4.63s\tremaining: 9.19s\n",
      "134:\tlearn: 0.0030419\ttotal: 4.66s\tremaining: 9.15s\n",
      "135:\tlearn: 0.0030381\ttotal: 4.68s\tremaining: 9.09s\n",
      "136:\tlearn: 0.0030381\ttotal: 4.7s\tremaining: 9.03s\n",
      "137:\tlearn: 0.0029566\ttotal: 4.74s\tremaining: 9s\n",
      "138:\tlearn: 0.0029566\ttotal: 4.77s\tremaining: 8.96s\n",
      "139:\tlearn: 0.0029566\ttotal: 4.8s\tremaining: 8.92s\n",
      "140:\tlearn: 0.0029566\ttotal: 4.83s\tremaining: 8.88s\n",
      "141:\tlearn: 0.0029319\ttotal: 4.87s\tremaining: 8.84s\n",
      "142:\tlearn: 0.0029285\ttotal: 4.9s\tremaining: 8.8s\n",
      "143:\tlearn: 0.0029285\ttotal: 4.93s\tremaining: 8.77s\n",
      "144:\tlearn: 0.0029254\ttotal: 4.96s\tremaining: 8.73s\n",
      "145:\tlearn: 0.0029187\ttotal: 5s\tremaining: 8.7s\n",
      "146:\tlearn: 0.0029162\ttotal: 5.03s\tremaining: 8.65s\n",
      "147:\tlearn: 0.0029148\ttotal: 5.05s\tremaining: 8.6s\n",
      "148:\tlearn: 0.0029125\ttotal: 5.09s\tremaining: 8.57s\n",
      "149:\tlearn: 0.0029125\ttotal: 5.12s\tremaining: 8.53s\n",
      "150:\tlearn: 0.0029125\ttotal: 5.16s\tremaining: 8.51s\n",
      "151:\tlearn: 0.0029124\ttotal: 5.2s\tremaining: 8.48s\n",
      "152:\tlearn: 0.0029124\ttotal: 5.24s\tremaining: 8.45s\n",
      "153:\tlearn: 0.0029124\ttotal: 5.27s\tremaining: 8.42s\n",
      "154:\tlearn: 0.0029124\ttotal: 5.32s\tremaining: 8.4s\n",
      "155:\tlearn: 0.0029066\ttotal: 5.36s\tremaining: 8.38s\n",
      "156:\tlearn: 0.0029066\ttotal: 5.39s\tremaining: 8.34s\n",
      "157:\tlearn: 0.0029066\ttotal: 5.43s\tremaining: 8.31s\n",
      "158:\tlearn: 0.0029066\ttotal: 5.47s\tremaining: 8.29s\n",
      "159:\tlearn: 0.0029046\ttotal: 5.5s\tremaining: 8.26s\n",
      "160:\tlearn: 0.0029026\ttotal: 5.54s\tremaining: 8.23s\n"
     ]
    },
    {
     "name": "stdout",
     "output_type": "stream",
     "text": [
      "161:\tlearn: 0.0029020\ttotal: 5.58s\tremaining: 8.2s\n",
      "162:\tlearn: 0.0029020\ttotal: 5.62s\tremaining: 8.18s\n",
      "163:\tlearn: 0.0029001\ttotal: 5.66s\tremaining: 8.15s\n",
      "164:\tlearn: 0.0025501\ttotal: 5.7s\tremaining: 8.12s\n",
      "165:\tlearn: 0.0025501\ttotal: 5.73s\tremaining: 8.07s\n",
      "166:\tlearn: 0.0025501\ttotal: 5.76s\tremaining: 8.04s\n",
      "167:\tlearn: 0.0025501\ttotal: 5.8s\tremaining: 8.01s\n",
      "168:\tlearn: 0.0025501\ttotal: 5.83s\tremaining: 7.96s\n",
      "169:\tlearn: 0.0025501\ttotal: 5.86s\tremaining: 7.93s\n",
      "170:\tlearn: 0.0025501\ttotal: 5.89s\tremaining: 7.88s\n",
      "171:\tlearn: 0.0025501\ttotal: 5.91s\tremaining: 7.84s\n",
      "172:\tlearn: 0.0025501\ttotal: 5.94s\tremaining: 7.79s\n",
      "173:\tlearn: 0.0025501\ttotal: 5.97s\tremaining: 7.75s\n",
      "174:\tlearn: 0.0025501\ttotal: 6s\tremaining: 7.72s\n",
      "175:\tlearn: 0.0025501\ttotal: 6.04s\tremaining: 7.68s\n",
      "176:\tlearn: 0.0025501\ttotal: 6.07s\tremaining: 7.65s\n",
      "177:\tlearn: 0.0025501\ttotal: 6.13s\tremaining: 7.64s\n",
      "178:\tlearn: 0.0025501\ttotal: 6.16s\tremaining: 7.6s\n",
      "179:\tlearn: 0.0025500\ttotal: 6.19s\tremaining: 7.57s\n",
      "180:\tlearn: 0.0025500\ttotal: 6.23s\tremaining: 7.54s\n",
      "181:\tlearn: 0.0024939\ttotal: 6.27s\tremaining: 7.51s\n",
      "182:\tlearn: 0.0024939\ttotal: 6.3s\tremaining: 7.47s\n",
      "183:\tlearn: 0.0024939\ttotal: 6.33s\tremaining: 7.43s\n",
      "184:\tlearn: 0.0024939\ttotal: 6.36s\tremaining: 7.39s\n",
      "185:\tlearn: 0.0024939\ttotal: 6.39s\tremaining: 7.36s\n",
      "186:\tlearn: 0.0024939\ttotal: 6.43s\tremaining: 7.32s\n",
      "187:\tlearn: 0.0024938\ttotal: 6.46s\tremaining: 7.28s\n",
      "188:\tlearn: 0.0024938\ttotal: 6.49s\tremaining: 7.25s\n",
      "189:\tlearn: 0.0024938\ttotal: 6.52s\tremaining: 7.21s\n",
      "190:\tlearn: 0.0024938\ttotal: 6.55s\tremaining: 7.17s\n",
      "191:\tlearn: 0.0024938\ttotal: 6.58s\tremaining: 7.13s\n",
      "192:\tlearn: 0.0024938\ttotal: 6.6s\tremaining: 7.08s\n",
      "193:\tlearn: 0.0024938\ttotal: 6.64s\tremaining: 7.05s\n",
      "194:\tlearn: 0.0024938\ttotal: 6.67s\tremaining: 7.01s\n",
      "195:\tlearn: 0.0024938\ttotal: 6.7s\tremaining: 6.97s\n",
      "196:\tlearn: 0.0024938\ttotal: 6.73s\tremaining: 6.93s\n",
      "197:\tlearn: 0.0024938\ttotal: 6.75s\tremaining: 6.89s\n",
      "198:\tlearn: 0.0024938\ttotal: 6.78s\tremaining: 6.85s\n",
      "199:\tlearn: 0.0024938\ttotal: 6.8s\tremaining: 6.8s\n",
      "200:\tlearn: 0.0024938\ttotal: 6.83s\tremaining: 6.76s\n",
      "201:\tlearn: 0.0024938\ttotal: 6.86s\tremaining: 6.72s\n",
      "202:\tlearn: 0.0024938\ttotal: 6.89s\tremaining: 6.69s\n",
      "203:\tlearn: 0.0024938\ttotal: 6.92s\tremaining: 6.65s\n",
      "204:\tlearn: 0.0024938\ttotal: 6.95s\tremaining: 6.61s\n",
      "205:\tlearn: 0.0024938\ttotal: 6.98s\tremaining: 6.57s\n",
      "206:\tlearn: 0.0024938\ttotal: 7.01s\tremaining: 6.54s\n",
      "207:\tlearn: 0.0024938\ttotal: 7.05s\tremaining: 6.51s\n",
      "208:\tlearn: 0.0024938\ttotal: 7.09s\tremaining: 6.48s\n",
      "209:\tlearn: 0.0024938\ttotal: 7.13s\tremaining: 6.45s\n",
      "210:\tlearn: 0.0024938\ttotal: 7.17s\tremaining: 6.42s\n",
      "211:\tlearn: 0.0024938\ttotal: 7.2s\tremaining: 6.38s\n",
      "212:\tlearn: 0.0024938\ttotal: 7.22s\tremaining: 6.34s\n",
      "213:\tlearn: 0.0024938\ttotal: 7.25s\tremaining: 6.3s\n",
      "214:\tlearn: 0.0024938\ttotal: 7.27s\tremaining: 6.26s\n",
      "215:\tlearn: 0.0024938\ttotal: 7.3s\tremaining: 6.22s\n",
      "216:\tlearn: 0.0024937\ttotal: 7.33s\tremaining: 6.18s\n",
      "217:\tlearn: 0.0024937\ttotal: 7.37s\tremaining: 6.15s\n",
      "218:\tlearn: 0.0024937\ttotal: 7.41s\tremaining: 6.12s\n",
      "219:\tlearn: 0.0024937\ttotal: 7.44s\tremaining: 6.09s\n",
      "220:\tlearn: 0.0024937\ttotal: 7.49s\tremaining: 6.07s\n",
      "221:\tlearn: 0.0024937\ttotal: 7.52s\tremaining: 6.03s\n",
      "222:\tlearn: 0.0024937\ttotal: 7.55s\tremaining: 6s\n",
      "223:\tlearn: 0.0024937\ttotal: 7.59s\tremaining: 5.96s\n",
      "224:\tlearn: 0.0024937\ttotal: 7.62s\tremaining: 5.93s\n",
      "225:\tlearn: 0.0024937\ttotal: 7.65s\tremaining: 5.89s\n",
      "226:\tlearn: 0.0024937\ttotal: 7.69s\tremaining: 5.86s\n",
      "227:\tlearn: 0.0024937\ttotal: 7.72s\tremaining: 5.83s\n",
      "228:\tlearn: 0.0024937\ttotal: 7.75s\tremaining: 5.79s\n",
      "229:\tlearn: 0.0024937\ttotal: 7.79s\tremaining: 5.75s\n",
      "230:\tlearn: 0.0024937\ttotal: 7.82s\tremaining: 5.72s\n",
      "231:\tlearn: 0.0024936\ttotal: 7.85s\tremaining: 5.68s\n",
      "232:\tlearn: 0.0024936\ttotal: 7.88s\tremaining: 5.65s\n",
      "233:\tlearn: 0.0024936\ttotal: 7.92s\tremaining: 5.62s\n",
      "234:\tlearn: 0.0024936\ttotal: 7.96s\tremaining: 5.59s\n",
      "235:\tlearn: 0.0024936\ttotal: 7.99s\tremaining: 5.55s\n",
      "236:\tlearn: 0.0024936\ttotal: 8.03s\tremaining: 5.52s\n",
      "237:\tlearn: 0.0024936\ttotal: 8.05s\tremaining: 5.48s\n",
      "238:\tlearn: 0.0024936\ttotal: 8.1s\tremaining: 5.45s\n",
      "239:\tlearn: 0.0024936\ttotal: 8.13s\tremaining: 5.42s\n",
      "240:\tlearn: 0.0024936\ttotal: 8.19s\tremaining: 5.41s\n",
      "241:\tlearn: 0.0024936\ttotal: 8.23s\tremaining: 5.37s\n",
      "242:\tlearn: 0.0024936\ttotal: 8.26s\tremaining: 5.34s\n",
      "243:\tlearn: 0.0024935\ttotal: 8.29s\tremaining: 5.3s\n",
      "244:\tlearn: 0.0024935\ttotal: 8.33s\tremaining: 5.27s\n",
      "245:\tlearn: 0.0024935\ttotal: 8.38s\tremaining: 5.24s\n",
      "246:\tlearn: 0.0024935\ttotal: 8.41s\tremaining: 5.21s\n",
      "247:\tlearn: 0.0024935\ttotal: 8.44s\tremaining: 5.17s\n",
      "248:\tlearn: 0.0024935\ttotal: 8.47s\tremaining: 5.14s\n",
      "249:\tlearn: 0.0024935\ttotal: 8.51s\tremaining: 5.1s\n",
      "250:\tlearn: 0.0024935\ttotal: 8.54s\tremaining: 5.07s\n",
      "251:\tlearn: 0.0024935\ttotal: 8.57s\tremaining: 5.03s\n",
      "252:\tlearn: 0.0024935\ttotal: 8.6s\tremaining: 5s\n",
      "253:\tlearn: 0.0024934\ttotal: 8.63s\tremaining: 4.96s\n",
      "254:\tlearn: 0.0024934\ttotal: 8.66s\tremaining: 4.92s\n",
      "255:\tlearn: 0.0024934\ttotal: 8.69s\tremaining: 4.89s\n",
      "256:\tlearn: 0.0024934\ttotal: 8.72s\tremaining: 4.85s\n",
      "257:\tlearn: 0.0024934\ttotal: 8.75s\tremaining: 4.82s\n",
      "258:\tlearn: 0.0024934\ttotal: 8.78s\tremaining: 4.78s\n",
      "259:\tlearn: 0.0024934\ttotal: 8.81s\tremaining: 4.75s\n",
      "260:\tlearn: 0.0024934\ttotal: 8.85s\tremaining: 4.71s\n",
      "261:\tlearn: 0.0024934\ttotal: 8.88s\tremaining: 4.68s\n",
      "262:\tlearn: 0.0024934\ttotal: 8.91s\tremaining: 4.64s\n",
      "263:\tlearn: 0.0024934\ttotal: 8.94s\tremaining: 4.61s\n",
      "264:\tlearn: 0.0024934\ttotal: 8.97s\tremaining: 4.57s\n",
      "265:\tlearn: 0.0024934\ttotal: 9s\tremaining: 4.53s\n",
      "266:\tlearn: 0.0024934\ttotal: 9.02s\tremaining: 4.5s\n",
      "267:\tlearn: 0.0024934\ttotal: 9.05s\tremaining: 4.46s\n",
      "268:\tlearn: 0.0024934\ttotal: 9.08s\tremaining: 4.42s\n",
      "269:\tlearn: 0.0024934\ttotal: 9.11s\tremaining: 4.39s\n",
      "270:\tlearn: 0.0024934\ttotal: 9.14s\tremaining: 4.35s\n",
      "271:\tlearn: 0.0024934\ttotal: 9.17s\tremaining: 4.32s\n",
      "272:\tlearn: 0.0024934\ttotal: 9.2s\tremaining: 4.28s\n",
      "273:\tlearn: 0.0024934\ttotal: 9.22s\tremaining: 4.24s\n",
      "274:\tlearn: 0.0024934\ttotal: 9.25s\tremaining: 4.21s\n",
      "275:\tlearn: 0.0024934\ttotal: 9.28s\tremaining: 4.17s\n",
      "276:\tlearn: 0.0024933\ttotal: 9.31s\tremaining: 4.14s\n",
      "277:\tlearn: 0.0024933\ttotal: 9.35s\tremaining: 4.1s\n",
      "278:\tlearn: 0.0024933\ttotal: 9.38s\tremaining: 4.07s\n",
      "279:\tlearn: 0.0024933\ttotal: 9.41s\tremaining: 4.03s\n",
      "280:\tlearn: 0.0024933\ttotal: 9.44s\tremaining: 4s\n",
      "281:\tlearn: 0.0024933\ttotal: 9.47s\tremaining: 3.96s\n",
      "282:\tlearn: 0.0024933\ttotal: 9.5s\tremaining: 3.93s\n",
      "283:\tlearn: 0.0024933\ttotal: 9.53s\tremaining: 3.89s\n",
      "284:\tlearn: 0.0024933\ttotal: 9.56s\tremaining: 3.86s\n",
      "285:\tlearn: 0.0024933\ttotal: 9.6s\tremaining: 3.83s\n",
      "286:\tlearn: 0.0024933\ttotal: 9.63s\tremaining: 3.79s\n",
      "287:\tlearn: 0.0024933\ttotal: 9.68s\tremaining: 3.77s\n",
      "288:\tlearn: 0.0024933\ttotal: 9.72s\tremaining: 3.73s\n",
      "289:\tlearn: 0.0024933\ttotal: 9.76s\tremaining: 3.7s\n",
      "290:\tlearn: 0.0024933\ttotal: 9.8s\tremaining: 3.67s\n",
      "291:\tlearn: 0.0024933\ttotal: 9.84s\tremaining: 3.64s\n",
      "292:\tlearn: 0.0024932\ttotal: 9.87s\tremaining: 3.6s\n",
      "293:\tlearn: 0.0024613\ttotal: 9.92s\tremaining: 3.58s\n",
      "294:\tlearn: 0.0024613\ttotal: 9.96s\tremaining: 3.54s\n",
      "295:\tlearn: 0.0024613\ttotal: 9.99s\tremaining: 3.51s\n",
      "296:\tlearn: 0.0024613\ttotal: 10s\tremaining: 3.48s\n",
      "297:\tlearn: 0.0024613\ttotal: 10.1s\tremaining: 3.45s\n",
      "298:\tlearn: 0.0024613\ttotal: 10.1s\tremaining: 3.42s\n",
      "299:\tlearn: 0.0024613\ttotal: 10.1s\tremaining: 3.38s\n",
      "300:\tlearn: 0.0024613\ttotal: 10.2s\tremaining: 3.35s\n",
      "301:\tlearn: 0.0024613\ttotal: 10.2s\tremaining: 3.31s\n",
      "302:\tlearn: 0.0024613\ttotal: 10.2s\tremaining: 3.28s\n",
      "303:\tlearn: 0.0024613\ttotal: 10.3s\tremaining: 3.24s\n",
      "304:\tlearn: 0.0024612\ttotal: 10.3s\tremaining: 3.21s\n",
      "305:\tlearn: 0.0024612\ttotal: 10.3s\tremaining: 3.18s\n",
      "306:\tlearn: 0.0024612\ttotal: 10.4s\tremaining: 3.14s\n",
      "307:\tlearn: 0.0024612\ttotal: 10.4s\tremaining: 3.11s\n",
      "308:\tlearn: 0.0024612\ttotal: 10.5s\tremaining: 3.08s\n",
      "309:\tlearn: 0.0024175\ttotal: 10.5s\tremaining: 3.05s\n",
      "310:\tlearn: 0.0024175\ttotal: 10.5s\tremaining: 3.02s\n",
      "311:\tlearn: 0.0024175\ttotal: 10.6s\tremaining: 2.98s\n",
      "312:\tlearn: 0.0024175\ttotal: 10.6s\tremaining: 2.95s\n",
      "313:\tlearn: 0.0024175\ttotal: 10.6s\tremaining: 2.91s\n",
      "314:\tlearn: 0.0024175\ttotal: 10.7s\tremaining: 2.88s\n",
      "315:\tlearn: 0.0024175\ttotal: 10.7s\tremaining: 2.84s\n",
      "316:\tlearn: 0.0024175\ttotal: 10.7s\tremaining: 2.81s\n",
      "317:\tlearn: 0.0024175\ttotal: 10.8s\tremaining: 2.77s\n",
      "318:\tlearn: 0.0024175\ttotal: 10.8s\tremaining: 2.74s\n",
      "319:\tlearn: 0.0024175\ttotal: 10.8s\tremaining: 2.71s\n",
      "320:\tlearn: 0.0024175\ttotal: 10.8s\tremaining: 2.67s\n",
      "321:\tlearn: 0.0024174\ttotal: 10.9s\tremaining: 2.63s\n",
      "322:\tlearn: 0.0024174\ttotal: 10.9s\tremaining: 2.6s\n",
      "323:\tlearn: 0.0024174\ttotal: 10.9s\tremaining: 2.56s\n"
     ]
    },
    {
     "name": "stdout",
     "output_type": "stream",
     "text": [
      "324:\tlearn: 0.0024174\ttotal: 10.9s\tremaining: 2.52s\n",
      "325:\tlearn: 0.0024174\ttotal: 11s\tremaining: 2.49s\n",
      "326:\tlearn: 0.0024174\ttotal: 11s\tremaining: 2.45s\n",
      "327:\tlearn: 0.0023844\ttotal: 11s\tremaining: 2.42s\n",
      "328:\tlearn: 0.0023844\ttotal: 11.1s\tremaining: 2.39s\n",
      "329:\tlearn: 0.0022427\ttotal: 11.1s\tremaining: 2.35s\n",
      "330:\tlearn: 0.0022427\ttotal: 11.1s\tremaining: 2.32s\n",
      "331:\tlearn: 0.0022426\ttotal: 11.2s\tremaining: 2.29s\n",
      "332:\tlearn: 0.0022426\ttotal: 11.2s\tremaining: 2.25s\n",
      "333:\tlearn: 0.0022426\ttotal: 11.2s\tremaining: 2.21s\n",
      "334:\tlearn: 0.0022426\ttotal: 11.2s\tremaining: 2.18s\n",
      "335:\tlearn: 0.0022426\ttotal: 11.3s\tremaining: 2.15s\n",
      "336:\tlearn: 0.0022426\ttotal: 11.3s\tremaining: 2.11s\n",
      "337:\tlearn: 0.0022426\ttotal: 11.3s\tremaining: 2.08s\n",
      "338:\tlearn: 0.0022070\ttotal: 11.4s\tremaining: 2.04s\n",
      "339:\tlearn: 0.0022070\ttotal: 11.4s\tremaining: 2.01s\n",
      "340:\tlearn: 0.0022070\ttotal: 11.4s\tremaining: 1.98s\n",
      "341:\tlearn: 0.0022070\ttotal: 11.5s\tremaining: 1.94s\n",
      "342:\tlearn: 0.0022060\ttotal: 11.5s\tremaining: 1.91s\n",
      "343:\tlearn: 0.0022059\ttotal: 11.5s\tremaining: 1.87s\n",
      "344:\tlearn: 0.0022059\ttotal: 11.5s\tremaining: 1.84s\n",
      "345:\tlearn: 0.0022042\ttotal: 11.6s\tremaining: 1.81s\n",
      "346:\tlearn: 0.0022042\ttotal: 11.6s\tremaining: 1.77s\n",
      "347:\tlearn: 0.0022042\ttotal: 11.6s\tremaining: 1.74s\n",
      "348:\tlearn: 0.0022026\ttotal: 11.7s\tremaining: 1.7s\n",
      "349:\tlearn: 0.0022026\ttotal: 11.7s\tremaining: 1.67s\n",
      "350:\tlearn: 0.0021569\ttotal: 11.7s\tremaining: 1.64s\n",
      "351:\tlearn: 0.0021569\ttotal: 11.8s\tremaining: 1.6s\n",
      "352:\tlearn: 0.0021569\ttotal: 11.8s\tremaining: 1.57s\n",
      "353:\tlearn: 0.0021555\ttotal: 11.8s\tremaining: 1.53s\n",
      "354:\tlearn: 0.0021071\ttotal: 11.8s\tremaining: 1.5s\n",
      "355:\tlearn: 0.0021071\ttotal: 11.9s\tremaining: 1.47s\n",
      "356:\tlearn: 0.0020691\ttotal: 11.9s\tremaining: 1.43s\n",
      "357:\tlearn: 0.0020691\ttotal: 11.9s\tremaining: 1.4s\n",
      "358:\tlearn: 0.0020691\ttotal: 11.9s\tremaining: 1.36s\n",
      "359:\tlearn: 0.0020391\ttotal: 12s\tremaining: 1.33s\n",
      "360:\tlearn: 0.0020391\ttotal: 12s\tremaining: 1.29s\n",
      "361:\tlearn: 0.0020350\ttotal: 12s\tremaining: 1.26s\n",
      "362:\tlearn: 0.0020314\ttotal: 12s\tremaining: 1.23s\n",
      "363:\tlearn: 0.0020276\ttotal: 12.1s\tremaining: 1.2s\n",
      "364:\tlearn: 0.0020276\ttotal: 12.1s\tremaining: 1.16s\n",
      "365:\tlearn: 0.0020242\ttotal: 12.1s\tremaining: 1.13s\n",
      "366:\tlearn: 0.0020214\ttotal: 12.2s\tremaining: 1.09s\n",
      "367:\tlearn: 0.0019889\ttotal: 12.2s\tremaining: 1.06s\n",
      "368:\tlearn: 0.0019889\ttotal: 12.2s\tremaining: 1.03s\n",
      "369:\tlearn: 0.0019889\ttotal: 12.3s\tremaining: 995ms\n",
      "370:\tlearn: 0.0019889\ttotal: 12.3s\tremaining: 961ms\n",
      "371:\tlearn: 0.0019889\ttotal: 12.3s\tremaining: 928ms\n",
      "372:\tlearn: 0.0019888\ttotal: 12.4s\tremaining: 895ms\n",
      "373:\tlearn: 0.0019856\ttotal: 12.4s\tremaining: 861ms\n",
      "374:\tlearn: 0.0019856\ttotal: 12.4s\tremaining: 829ms\n",
      "375:\tlearn: 0.0019831\ttotal: 12.5s\tremaining: 796ms\n",
      "376:\tlearn: 0.0019831\ttotal: 12.5s\tremaining: 762ms\n",
      "377:\tlearn: 0.0019808\ttotal: 12.5s\tremaining: 729ms\n",
      "378:\tlearn: 0.0019787\ttotal: 12.6s\tremaining: 695ms\n",
      "379:\tlearn: 0.0019763\ttotal: 12.6s\tremaining: 662ms\n",
      "380:\tlearn: 0.0019633\ttotal: 12.6s\tremaining: 629ms\n",
      "381:\tlearn: 0.0019616\ttotal: 12.6s\tremaining: 596ms\n",
      "382:\tlearn: 0.0019595\ttotal: 12.7s\tremaining: 562ms\n",
      "383:\tlearn: 0.0019090\ttotal: 12.7s\tremaining: 529ms\n",
      "384:\tlearn: 0.0018993\ttotal: 12.7s\tremaining: 496ms\n",
      "385:\tlearn: 0.0018041\ttotal: 12.8s\tremaining: 463ms\n",
      "386:\tlearn: 0.0018041\ttotal: 12.8s\tremaining: 429ms\n",
      "387:\tlearn: 0.0018041\ttotal: 12.8s\tremaining: 396ms\n",
      "388:\tlearn: 0.0018030\ttotal: 12.8s\tremaining: 363ms\n",
      "389:\tlearn: 0.0018022\ttotal: 12.9s\tremaining: 330ms\n",
      "390:\tlearn: 0.0017302\ttotal: 12.9s\tremaining: 297ms\n",
      "391:\tlearn: 0.0017290\ttotal: 12.9s\tremaining: 264ms\n",
      "392:\tlearn: 0.0017290\ttotal: 13s\tremaining: 231ms\n",
      "393:\tlearn: 0.0017290\ttotal: 13s\tremaining: 198ms\n",
      "394:\tlearn: 0.0017290\ttotal: 13s\tremaining: 165ms\n",
      "395:\tlearn: 0.0017289\ttotal: 13.1s\tremaining: 132ms\n",
      "396:\tlearn: 0.0017289\ttotal: 13.1s\tremaining: 99.1ms\n",
      "397:\tlearn: 0.0016732\ttotal: 13.1s\tremaining: 66ms\n",
      "398:\tlearn: 0.0016732\ttotal: 13.2s\tremaining: 33ms\n",
      "399:\tlearn: 0.0016281\ttotal: 13.2s\tremaining: 0us\n"
     ]
    }
   ],
   "source": [
    "from catboost import CatBoostClassifier\n",
    "\n",
    "catb = CatBoostClassifier(iterations=400, learning_rate=0.1, max_depth=3)\n",
    "catb.fit(train_pool)\n",
    "catb_preds = catb.predict(test_pool)\n",
    "catb_pred_proba = catb.predict_proba(test_pool)[:, 1]"
   ]
  },
  {
   "cell_type": "markdown",
   "metadata": {
    "id": "JOj-GyVVnL-6"
   },
   "source": [
    "### 예측 성능을 평가하시오."
   ]
  },
  {
   "cell_type": "code",
   "execution_count": 40,
   "metadata": {
    "colab": {
     "base_uri": "https://localhost:8080/"
    },
    "id": "g5N9TM8XnL-6",
    "outputId": "a5a57f35-2efc-425a-b858-16b11397aac6"
   },
   "outputs": [
    {
     "data": {
      "text/plain": [
       "1.0"
      ]
     },
     "execution_count": 40,
     "metadata": {},
     "output_type": "execute_result"
    }
   ],
   "source": [
    "from sklearn.metrics import accuracy_score\n",
    "accuracy = accuracy_score(y_test , catb_preds)\n",
    "accuracy"
   ]
  }
 ],
 "metadata": {
  "colab": {
   "collapsed_sections": [],
   "name": "week4_복습과제_최종.ipynb",
   "provenance": []
  },
  "kernelspec": {
   "display_name": "Python 3 (ipykernel)",
   "language": "python",
   "name": "python3"
  },
  "language_info": {
   "codemirror_mode": {
    "name": "ipython",
    "version": 3
   },
   "file_extension": ".py",
   "mimetype": "text/x-python",
   "name": "python",
   "nbconvert_exporter": "python",
   "pygments_lexer": "ipython3",
   "version": "3.9.7"
  }
 },
 "nbformat": 4,
 "nbformat_minor": 1
}
