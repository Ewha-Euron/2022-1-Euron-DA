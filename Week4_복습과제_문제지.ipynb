{
 "cells": [
  {
   "cell_type": "markdown",
   "metadata": {
    "id": "9JDEQ7QLYqy9"
   },
   "source": [
    "# 와인 품질 분류"
   ]
  },
  {
   "cell_type": "markdown",
   "metadata": {
    "id": "N3fKt9upYqzA"
   },
   "source": [
    "wine_quality.csv 파일이 존재합니다.\n",
    "\n",
    "와인의 여러가지 화학 성분을 기반으로 와인의 품질을 분류해내는 것이 목표입니다.\n",
    "\n",
    "- index 구분자\n",
    "- quality 품질\n",
    "- fixed acidity 산도\n",
    "- volatile acidity 휘발성산\n",
    "- citric acid 시트르산\n",
    "- residual sugar 잔당 : 발효 후 와인 속에 남아있는 당분\n",
    "- chlorides 염화물\n",
    "- free sulfur dioxide 독립 이산화황\n",
    "- total sulfur dioxide 총 이산화황\n",
    "- density 밀도\n",
    "- pH 수소이온농도\n",
    "- sulphates 황산염\n",
    "- alcohol 도수\n",
    "- type 종류\n",
    "\n",
    "데이터셋 출처: https://dacon.io/competitions/open/235610/data\n",
    "\n",
    "(학습을 위해 원래 데이터셋에서 test.csv는 제외하고, train.csv 파일만을 고려하여 진행했습니다.)"
   ]
  },
  {
   "cell_type": "code",
   "execution_count": null,
   "metadata": {},
   "outputs": [],
   "source": [
    "#필요한 라이브러리 import\n",
    "import pandas as pd\n",
    "import numpy as np\n",
    "import seaborn as sns\n",
    "import matplotlib.pyplot as plt"
   ]
  },
  {
   "cell_type": "code",
   "execution_count": null,
   "metadata": {},
   "outputs": [],
   "source": [
    "#데이터셋 불러오기"
   ]
  },
  {
   "cell_type": "markdown",
   "metadata": {
    "id": "Ex_JS_GUYqzE"
   },
   "source": [
    "## 데이터 전처리, EDA 및 시각화"
   ]
  },
  {
   "cell_type": "markdown",
   "metadata": {
    "id": "DNtVEgliYqzE"
   },
   "source": [
    "### wine_data 데이터를 살펴보고, 쓸모 없는 column을 삭제하시오.(index column 삭제)"
   ]
  },
  {
   "cell_type": "code",
   "execution_count": null,
   "metadata": {},
   "outputs": [],
   "source": []
  },
  {
   "cell_type": "code",
   "execution_count": null,
   "metadata": {},
   "outputs": [],
   "source": [
    "#wine_data.columns 결과 확인"
   ]
  },
  {
   "cell_type": "markdown",
   "metadata": {
    "id": "Le9024xjYqzH"
   },
   "source": [
    "### info()를 결측치가 있는지 확인하고, describe()를 통해 수치형 피쳐들의 scale을 살펴보고, 스케일링을 진행해야 하는지 살펴보시오. "
   ]
  },
  {
   "cell_type": "code",
   "execution_count": null,
   "metadata": {},
   "outputs": [],
   "source": []
  },
  {
   "cell_type": "code",
   "execution_count": null,
   "metadata": {},
   "outputs": [],
   "source": []
  },
  {
   "cell_type": "markdown",
   "metadata": {
    "id": "6hY00gS0YqzJ"
   },
   "source": [
    "### wine_data에서 각 피쳐들 간의 상관관계를 나타내는 히트맵을 출력하시오."
   ]
  },
  {
   "cell_type": "code",
   "execution_count": null,
   "metadata": {},
   "outputs": [],
   "source": []
  },
  {
   "cell_type": "markdown",
   "metadata": {
    "id": "0sLcOUTHYqzK"
   },
   "source": [
    "### 데이터에서 피쳐값과 타겟값을 분리하여 각각 X_wine, y_wine으로 저장하시오. (target은 quality)"
   ]
  },
  {
   "cell_type": "code",
   "execution_count": null,
   "metadata": {},
   "outputs": [],
   "source": []
  },
  {
   "cell_type": "code",
   "execution_count": null,
   "metadata": {},
   "outputs": [],
   "source": [
    "#데이터 확인(X_wine)"
   ]
  },
  {
   "cell_type": "code",
   "execution_count": null,
   "metadata": {},
   "outputs": [],
   "source": [
    "#데이터 확인(y_wine)"
   ]
  },
  {
   "cell_type": "markdown",
   "metadata": {
    "id": "exsdnKdxYqzL"
   },
   "source": [
    "### 피쳐값 중 카테고리 변수가 1가지 있다. 이에 대해 Encoding을 진행하시오."
   ]
  },
  {
   "cell_type": "code",
   "execution_count": null,
   "metadata": {},
   "outputs": [],
   "source": []
  },
  {
   "cell_type": "code",
   "execution_count": null,
   "metadata": {},
   "outputs": [],
   "source": [
    "#Encoding이 잘 되었는지 확인"
   ]
  },
  {
   "cell_type": "markdown",
   "metadata": {
    "id": "FG_5_eGJYqzM"
   },
   "source": [
    "### 피쳐값에 대해 MinMaxScaler()를 이용해 스케일링을 하시오.\n",
    "- 스케일링 된 피쳐값은 데이터프레임 형식으로 X_wine_scaled에 저장"
   ]
  },
  {
   "cell_type": "code",
   "execution_count": null,
   "metadata": {},
   "outputs": [],
   "source": []
  },
  {
   "cell_type": "code",
   "execution_count": null,
   "metadata": {},
   "outputs": [],
   "source": [
    "#Scaling 잘 되었는지 확인"
   ]
  },
  {
   "cell_type": "markdown",
   "metadata": {
    "id": "FKvIl1gbYqzN"
   },
   "source": [
    "### train_test_split()을 이용해 train set와 test set를 분리하시오.\n",
    "- testset 의 size : 전체 데이터 셋의 20%\n",
    "- 각 set의 이름 : X_train, X_test, y_train, y_test\n",
    "- random_state = 123"
   ]
  },
  {
   "cell_type": "code",
   "execution_count": null,
   "metadata": {},
   "outputs": [],
   "source": []
  },
  {
   "cell_type": "code",
   "execution_count": null,
   "metadata": {},
   "outputs": [],
   "source": [
    "#잘 분리되었는지 확인"
   ]
  },
  {
   "cell_type": "markdown",
   "metadata": {
    "id": "ZP9-jeVFiv01"
   },
   "source": [
    "### GradientBoostingClassifier을 사용해 train data를 fit 한 후, test data로 예측을 수행하고 정확도를 구하시오"
   ]
  },
  {
   "cell_type": "code",
   "execution_count": null,
   "metadata": {},
   "outputs": [],
   "source": []
  },
  {
   "cell_type": "markdown",
   "metadata": {
    "id": "ncw9i-QAq5CO"
   },
   "source": [
    "### GridSearchCV를 사용해 최적 하이퍼 파라미터 조합을 찾으시오\n",
    "params={\n",
    "    'learning_rate':[0.05,0.1],\n",
    "    'n_estimators':[100,500]\n",
    "}"
   ]
  },
  {
   "cell_type": "code",
   "execution_count": null,
   "metadata": {},
   "outputs": [],
   "source": []
  },
  {
   "cell_type": "code",
   "execution_count": null,
   "metadata": {},
   "outputs": [],
   "source": []
  },
  {
   "cell_type": "markdown",
   "metadata": {
    "id": "Ikzbq-5vrTWb"
   },
   "source": [
    "최적으로 학습된 estimator로 예측을 수행하시오"
   ]
  },
  {
   "cell_type": "markdown",
   "metadata": {
    "id": "Y3ODggY3WeRz"
   },
   "source": [
    "## XGBoost 및 LightGBM 실습"
   ]
  },
  {
   "cell_type": "markdown",
   "metadata": {
    "id": "sA2WcrL-WeRz"
   },
   "source": [
    "### 사이킷런 래퍼 클래스 XGBoost를 사용해 train 세트를 fit 한 후 test 세트로 예측의 정확도 및 F1 스코어를 출력하시오.\n",
    "- n_estimators=400\n",
    "- learning_rate = 0.1\n",
    "- max_depth = 3"
   ]
  },
  {
   "cell_type": "code",
   "execution_count": null,
   "metadata": {},
   "outputs": [],
   "source": []
  },
  {
   "cell_type": "markdown",
   "metadata": {
    "id": "gQbU03QHWeR0"
   },
   "source": [
    "### 사이킷런 래퍼 클래스 LightGBM와 GridSearchCV를 사용해 최적의 하이퍼 파라미터 조합과 그 하이퍼 파라미터의 예측 정확도를 구하시오.\n",
    "- 'n_estimators' : [100,200,300,400,500]\n",
    "- 'learning_rate' : [0.01,0.05, 0.1, 0.15, 0.2]\n",
    "- 'max_depth' : [3,4,5,6,7]\n",
    "\n",
    "(제 컴퓨터에선 2분정도 걸려욤)"
   ]
  },
  {
   "cell_type": "code",
   "execution_count": null,
   "metadata": {},
   "outputs": [],
   "source": []
  },
  {
   "cell_type": "markdown",
   "metadata": {
    "id": "BT2PX4PfWeR1"
   },
   "source": [
    "### plot_importance()를 통해 피쳐 중요도를 시각화하고, 어떤 피쳐가 가장 중요한지 기술하시오."
   ]
  },
  {
   "cell_type": "code",
   "execution_count": null,
   "metadata": {},
   "outputs": [],
   "source": []
  },
  {
   "cell_type": "markdown",
   "metadata": {
    "id": "CtJ8XEnaWj6f"
   },
   "source": [
    "## 스태킹 실습"
   ]
  },
  {
   "cell_type": "markdown",
   "metadata": {
    "id": "j9LpDNKwWj6f"
   },
   "source": [
    "### CV 세트 기반의 스태킹을 진행하려 한다. 개별 기반 모델들이 교차 검증을 통해 최종 메타 모델이 사용할 학습용, 테스트용 데이터를 생성하기 위한 함수를 작성하시오.\n",
    "```\n",
    "def get_stacking_base_datasets(model, X_train_n, y_train_n, X_test_n, n_folds ):\n",
    "    return train_fold_pred , test_pred_mean\n",
    "```"
   ]
  },
  {
   "cell_type": "code",
   "execution_count": null,
   "metadata": {},
   "outputs": [],
   "source": []
  },
  {
   "cell_type": "markdown",
   "metadata": {
    "id": "iqw-WOXKWj6g"
   },
   "source": [
    "### 스태킹에 사용될 머신러닝 알고리즘 클래스를 생성하시오.\n",
    "- 개별 모델: KNN(n_neighbors=4), 랜덤 포레스트(n_estimators=100, random_state=0), 결정 트리, 에이다부스트(n_estimators=100), LightGBM(n_estimators=400)\n",
    "- 최종 모델: 로지스틱 회귀(C=10)"
   ]
  },
  {
   "cell_type": "code",
   "execution_count": null,
   "metadata": {},
   "outputs": [],
   "source": []
  },
  {
   "cell_type": "markdown",
   "metadata": {
    "id": "k59c10E5Wj6g"
   },
   "source": [
    "### 개별 모델별로 get_stacking_base_datasets 함수를 수행하여 최종 메타 모델이 사용할 학습용, 테스트용 데이터를 생성하시오.\n",
    "- 폴드 개수는 7개"
   ]
  },
  {
   "cell_type": "code",
   "execution_count": null,
   "metadata": {},
   "outputs": [],
   "source": []
  },
  {
   "cell_type": "markdown",
   "metadata": {
    "id": "mNhahQcCWj6h"
   },
   "source": [
    "### 생성된 학습용 데이터와 테스트용 데이터를 각각 합치시오.\n",
    "- 학습용 데이터는 Stack_final_X_train\n",
    "- 테스트용 데이터는 Stack_final_X_test"
   ]
  },
  {
   "cell_type": "code",
   "execution_count": null,
   "metadata": {},
   "outputs": [],
   "source": []
  },
  {
   "cell_type": "markdown",
   "metadata": {
    "id": "PnPGTIxdWj6h"
   },
   "source": [
    "### 최종 메타 모델인 로지스틱 회귀를 사용하여 학습 및 예측을 진행하고 최종 메타 모델의 예측 정확도를 출력하시오."
   ]
  },
  {
   "cell_type": "code",
   "execution_count": null,
   "metadata": {},
   "outputs": [],
   "source": []
  },
  {
   "cell_type": "markdown",
   "metadata": {
    "id": "SVA3yGXXnL-q"
   },
   "source": [
    "# 버섯 독성 여부 분류 - CatBoost 실습"
   ]
  },
  {
   "cell_type": "markdown",
   "metadata": {
    "id": "47mLiwS1nL-t"
   },
   "source": [
    "mushrooms.csv 파일을 사용합니다.\n",
    "\n",
    "독성 버섯인지 식용 가능한 버섯인지 분류해내는 것이 목표입니다.\n",
    "\n",
    "- cap-shape: bell=b,conical=c,convex=x,flat=f, knobbed=k,sunken=s\n",
    "- cap-surface: fibrous=f,grooves=g,scaly=y,smooth=s\n",
    "- cap-color: brown=n,buff=b,cinnamon=c,gray=g,green=r,pink=p,purple=u,red=e,white=w,yellow=y\n",
    "- bruises: bruises=t,no=f\n",
    "- odor: almond=a,anise=l,creosote=c,fishy=y,foul=f,musty=m,none=n,pungent=p,spicy=s\n",
    "- gill-attachment: attached=a,descending=d,free=f,notched=n\n",
    "- gill-spacing: close=c,crowded=w,distant=d\n",
    "- gill-size: broad=b,narrow=n\n",
    "- gill-color: black=k,brown=n,buff=b,chocolate=h,gray=g, green=r,orange=o,pink=p,purple=u,red=e,white=w,yellow=y\n",
    "- stalk-shape: enlarging=e,tapering=t\n",
    "- stalk-root: bulbous=b,club=c,cup=u,equal=e,rhizomorphs=z,rooted=r,missing=?\n",
    "- stalk-surface-above-ring: fibrous=f,scaly=y,silky=k,smooth=s\n",
    "- stalk-surface-below-ring: fibrous=f,scaly=y,silky=k,smooth=s\n",
    "- stalk-color-above-ring: brown=n,buff=b,cinnamon=c,gray=g,orange=o,pink=p,red=e,white=w,yellow=y\n",
    "- stalk-color-below-ring: brown=n,buff=b,cinnamon=c,gray=g,orange=o,pink=p,red=e,white=w,yellow=y\n",
    "- veil-type: partial=p,universal=u\n",
    "- veil-color: brown=n,orange=o,white=w,yellow=y\n",
    "- ring-number: none=n,one=o,two=t\n",
    "- ring-type: cobwebby=c,evanescent=e,flaring=f,large=l,none=n,pendant=p,sheathing=s,zone=z\n",
    "- spore-print-color: black=k,brown=n,buff=b,chocolate=h,green=r,orange=o,purple=u,white=w,yellow=y\n",
    "- population: abundant=a,clustered=c,numerous=n,scattered=s,several=v,solitary=y\n",
    "- habitat: grasses=g,leaves=l,meadows=m,paths=p,urban=u,waste=w,woods=d\n",
    "\n",
    "데이터셋 출처: https://www.kaggle.com/datasets/uciml/mushroom-classification"
   ]
  },
  {
   "cell_type": "code",
   "execution_count": null,
   "metadata": {},
   "outputs": [],
   "source": [
    "#필요한 라이브러리 import\n",
    "import pandas as pd\n",
    "import numpy as np"
   ]
  },
  {
   "cell_type": "code",
   "execution_count": null,
   "metadata": {},
   "outputs": [],
   "source": [
    "#데이터셋 불러오기"
   ]
  },
  {
   "cell_type": "markdown",
   "metadata": {
    "id": "VopHpuxRnL-y"
   },
   "source": [
    "## 데이터 전처리"
   ]
  },
  {
   "cell_type": "markdown",
   "metadata": {
    "id": "GvbNYXIanL-y"
   },
   "source": [
    "### info()를 통해 결측치가 있는지 확인하시오."
   ]
  },
  {
   "cell_type": "code",
   "execution_count": null,
   "metadata": {},
   "outputs": [],
   "source": []
  },
  {
   "cell_type": "markdown",
   "metadata": {
    "id": "WGMicxOpnL-1"
   },
   "source": [
    "### 데이터에서 피쳐값과 타겟값을 분리하여 각각 X_mushroom, y_mushroom으로 저장하시오\n",
    "- target은 class"
   ]
  },
  {
   "cell_type": "code",
   "execution_count": null,
   "metadata": {},
   "outputs": [],
   "source": []
  },
  {
   "cell_type": "code",
   "execution_count": null,
   "metadata": {},
   "outputs": [],
   "source": [
    "#데이터 확인(X_mushroom)"
   ]
  },
  {
   "cell_type": "code",
   "execution_count": null,
   "metadata": {},
   "outputs": [],
   "source": [
    "#데이터 확인(y_mushroom)"
   ]
  },
  {
   "cell_type": "markdown",
   "metadata": {
    "id": "Pvw9LEfEnL-3"
   },
   "source": [
    "### train_test_split()을 이용해 train set과 test set을 분리하시오."
   ]
  },
  {
   "cell_type": "code",
   "execution_count": null,
   "metadata": {},
   "outputs": [],
   "source": []
  },
  {
   "cell_type": "code",
   "execution_count": null,
   "metadata": {},
   "outputs": [],
   "source": [
    "#잘 분리되었는지 확인"
   ]
  },
  {
   "cell_type": "markdown",
   "metadata": {
    "id": "4xUNumiSnL-4"
   },
   "source": [
    "### CatBoost를 진행할 수 있도록 범주형 변수를 처리하시오.\n",
    "- trainset은 train_pool에 저장\n",
    "- testset은 test_pool에 저장"
   ]
  },
  {
   "cell_type": "code",
   "execution_count": null,
   "metadata": {},
   "outputs": [],
   "source": []
  },
  {
   "cell_type": "markdown",
   "metadata": {
    "id": "uJ08pr0VnL-5"
   },
   "source": [
    "### CatBoost 모델을 기반으로 버섯에 대한 정보를 학습하고 버섯의 독성 여부를 예측하시오.\n",
    "- iteration=400, learning_rate=0.1, max_depth=3\n",
    "- catb_predes, catb_pred_proba"
   ]
  },
  {
   "cell_type": "code",
   "execution_count": null,
   "metadata": {},
   "outputs": [],
   "source": []
  },
  {
   "cell_type": "markdown",
   "metadata": {
    "id": "JOj-GyVVnL-6"
   },
   "source": [
    "### 예측 성능을 평가하시오."
   ]
  },
  {
   "cell_type": "code",
   "execution_count": null,
   "metadata": {},
   "outputs": [],
   "source": []
  }
 ],
 "metadata": {
  "colab": {
   "collapsed_sections": [],
   "name": "week4_복습과제_최종.ipynb",
   "provenance": []
  },
  "kernelspec": {
   "display_name": "Python 3",
   "language": "python",
   "name": "python3"
  },
  "language_info": {
   "codemirror_mode": {
    "name": "ipython",
    "version": 3
   },
   "file_extension": ".py",
   "mimetype": "text/x-python",
   "name": "python",
   "nbconvert_exporter": "python",
   "pygments_lexer": "ipython3",
   "version": "3.8.5"
  }
 },
 "nbformat": 4,
 "nbformat_minor": 1
}
