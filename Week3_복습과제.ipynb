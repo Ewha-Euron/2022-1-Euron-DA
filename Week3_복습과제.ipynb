{
  "cells": [
    {
      "cell_type": "markdown",
      "metadata": {
        "id": "1nUEaI3NTPqS"
      },
      "source": [
        "##  Week2 복습과제\n",
        "### 1. HR_employee_data 를 이용한 마찰(\"Attrition\") 여부를 파악 \n",
        "### 결정트리, 랜덤포레스트 실습\n"
      ]
    },
    {
      "cell_type": "code",
      "source": [
        "# 구글 코랩 이용하시는 분들만 돌려주세요!\n",
        "from google.colab import files\n",
        "uploaded = files.upload()"
      ],
      "metadata": {
        "id": "TU2weAGWkcFD"
      },
      "execution_count": null,
      "outputs": []
    },
    {
      "cell_type": "code",
      "execution_count": null,
      "metadata": {
        "id": "VBZe4anqOI20"
      },
      "outputs": [],
      "source": [
        "import pandas as pd\n",
        "import numpy as np\n",
        "import matplotlib.pyplot as plt\n",
        "import seaborn as sns"
      ]
    },
    {
      "cell_type": "markdown",
      "metadata": {
        "id": "-3Dl9_5YTi3m"
      },
      "source": [
        "#### 1.1 문제와 같이 제시된 'HR_employee_data.csv'를 읽어와 HR에 저장하시오\n"
      ]
    },
    {
      "cell_type": "code",
      "execution_count": null,
      "metadata": {
        "id": "i_dsy9soOcnY"
      },
      "outputs": [],
      "source": [
        ""
      ]
    },
    {
      "cell_type": "markdown",
      "metadata": {
        "id": "D0Y8XwRVTmnw"
      },
      "source": [
        "#### 1.2 HR 데이터의 상위 5 행을 통해 데이터를 파악하시오"
      ]
    },
    {
      "cell_type": "code",
      "execution_count": null,
      "metadata": {
        "id": "K0bkRdoBOfB-"
      },
      "outputs": [],
      "source": [
        ""
      ]
    },
    {
      "cell_type": "markdown",
      "metadata": {
        "id": "74yewiTXTtw_"
      },
      "source": [
        "#### 1.3 HR 데이터를 describe()함수를 사용해서 의미 없어 보이는 값을 파악하시오."
      ]
    },
    {
      "cell_type": "code",
      "execution_count": null,
      "metadata": {
        "id": "9Jmne3LROg4d"
      },
      "outputs": [],
      "source": [
        ""
      ]
    },
    {
      "cell_type": "markdown",
      "metadata": {
        "id": "gkKwQur4TyTz"
      },
      "source": [
        "#### 1.4 위 describe() 함수를 사용한 결과  'EmployeeCount', 'EmployeeNumber', 'Over18', 'StandardHours' 열이 의미가 없어 보입니다.\n",
        "- HR 데이터 셋에서 'EmployeeCount', 'EmployeeNumber', 'Over18', 'StandardHours' 열들을 삭제하시오. "
      ]
    },
    {
      "cell_type": "code",
      "execution_count": null,
      "metadata": {
        "id": "J0coLRB4OjlQ"
      },
      "outputs": [],
      "source": [
        ""
      ]
    },
    {
      "cell_type": "code",
      "execution_count": null,
      "metadata": {
        "id": "rN0xsZGfOnNl"
      },
      "outputs": [],
      "source": [
        "# HR.columns -> 결과 확인하기"
      ]
    },
    {
      "cell_type": "markdown",
      "metadata": {
        "id": "w_hhVBTOT2ja"
      },
      "source": [
        "#### 1.5 'Attrition'열에 어떤 값이 들어있는 지 알아보시오 (예측하고자 하는 y값이 될 열 입니다.)"
      ]
    },
    {
      "cell_type": "code",
      "execution_count": null,
      "metadata": {
        "id": "Y6yfj92GOpTF"
      },
      "outputs": [],
      "source": [
        ""
      ]
    },
    {
      "cell_type": "markdown",
      "metadata": {
        "id": "dg3TpKuST6yK"
      },
      "source": [
        "#### 1.6 HR 데이터의 'Attrition'열의 문자열 속성값을 1과 0의 값으로 바꾸시오.\n",
        "- 'Yes'는 1로 'No'는0으로 "
      ]
    },
    {
      "cell_type": "code",
      "execution_count": null,
      "metadata": {
        "id": "6kTbYSg5Orig"
      },
      "outputs": [],
      "source": [
        ""
      ]
    },
    {
      "cell_type": "code",
      "execution_count": null,
      "metadata": {
        "id": "karm9kruOuAV"
      },
      "outputs": [],
      "source": [
        "# HR['Attrition'].unique() -> 결과 확인하기 "
      ]
    },
    {
      "cell_type": "markdown",
      "metadata": {
        "id": "7dBvk-GHT_eE"
      },
      "source": [
        "#### 1.7 독립변수(X)와 종속변수(y) 분리 및 인코딩 \n",
        "- y에 'Attrition' 열에 해당하는 값을, X에 나머지 변수들을 저장하시오.\n",
        "- LabelEncdoer를 이용해 categorical 변수에 대해 인코딩을 하시오.\n",
        "- X와 y를 X_train, X_test, y_train, y_test으로 나누시오. (test_size=0.3, random_state=42)"
      ]
    },
    {
      "cell_type": "code",
      "execution_count": null,
      "metadata": {
        "id": "NJjJiBx3UEbZ"
      },
      "outputs": [],
      "source": [
        "# HR.info() -> 명목변수 확인"
      ]
    },
    {
      "cell_type": "code",
      "execution_count": null,
      "metadata": {
        "id": "FnmFOZuvOv5Q"
      },
      "outputs": [],
      "source": [
        ""
      ]
    },
    {
      "cell_type": "code",
      "execution_count": null,
      "metadata": {
        "id": "dH3ZUgTiOybq"
      },
      "outputs": [],
      "source": [
        "# X.head() -> 결과 확인하기 "
      ]
    },
    {
      "cell_type": "markdown",
      "metadata": {
        "id": "gCROK5BDUJui"
      },
      "source": [
        "#### 1.8 DecisionTreeClassifier를 사용해 훈련데이터를 fit 한 후, 테스트 셋으로 예측의 정확도를 구하시오. \n",
        "- DecisionTreeClassifer 의 random_state=42"
      ]
    },
    {
      "cell_type": "code",
      "execution_count": null,
      "metadata": {
        "id": "tMwEm6OYPBDc"
      },
      "outputs": [],
      "source": [
        ""
      ]
    },
    {
      "cell_type": "markdown",
      "metadata": {
        "id": "Y0BhxtKdUNDA"
      },
      "source": [
        "#### 1.9 RandomForestClassifier를 사용해 훈련데이터를 fit 한 후, <br>테스트 셋으로 예측의 정확도를 구하고<br> 앞의 문제와 비교해 성능이 향상되었는 지 살펴보시오\n",
        "- 조건 : Forest의 tree 개수를 100개로 제한하시오"
      ]
    },
    {
      "cell_type": "code",
      "execution_count": null,
      "metadata": {
        "id": "1Bm0twYBPFU6"
      },
      "outputs": [],
      "source": [
        "from sklearn.ensemble import RandomForestClassifier\n",
        "\n"
      ]
    },
    {
      "cell_type": "markdown",
      "metadata": {
        "id": "lOL98HOfUWlH"
      },
      "source": [
        "#### 1.10 GridSearchCV를 사용해 최적의 하이퍼 파라미터 조합을 찾으시오\n",
        "\n",
        "params = {\n",
        "    'n_estimators' : [30,40, 50, 70, 80, 90, 100],\n",
        "    'max_depth' : [6, 8, 10, 12]\n",
        "}"
      ]
    },
    {
      "cell_type": "code",
      "execution_count": null,
      "metadata": {
        "id": "TeA4FzjtPIM8"
      },
      "outputs": [],
      "source": [
        "\n"
      ]
    },
    {
      "cell_type": "code",
      "execution_count": null,
      "metadata": {
        "id": "ZXkU1voIPLWI"
      },
      "outputs": [],
      "source": [
        ""
      ]
    },
    {
      "cell_type": "markdown",
      "metadata": {
        "id": "vctI0DMYUl5D"
      },
      "source": [
        "-GridSearchCV를 이용해 최적으로 학습된 estimators로 예측을 수행하시오"
      ]
    },
    {
      "cell_type": "code",
      "execution_count": null,
      "metadata": {
        "id": "tivFGat9PSMh"
      },
      "outputs": [],
      "source": [
        ""
      ]
    },
    {
      "cell_type": "markdown",
      "metadata": {
        "id": "Qtw50cl2Urb3"
      },
      "source": [
        "## <mobile_price 데이터 셋을 이용한 SVM 실습>\n",
        "### 2. 휴대폰의 여러가지 특성을 기반으로 가격 범위를 예측하는 분류 실습입니다. "
      ]
    },
    {
      "cell_type": "markdown",
      "metadata": {
        "id": "Pd9PzDuvUtxo"
      },
      "source": [
        "다음은 mobile_price.csv 데이터에 대한 설명 입니다.\n",
        "\n",
        "- battery_power: Total energy a battery can store in one time measured in mAh\n",
        "- blue: Has bluetooth or not\n",
        "- clock_speed: speed at which microprocessor executes instructions\n",
        "- dual_sim: Has dual sim support or not\t\n",
        "- fc: Front Camera mega pixels\n",
        "- four_g: Has 4G or not\n",
        "- int_memory: Internal Memory in Gigabytes\t\n",
        "- m_dep: Mobile Depth in cm\n",
        "- mobile_wt: Weight of mobile phone\n",
        "- n_cores: Number of cores of processor\t\n",
        "- pc: Primary Camera mega pixels\n",
        "- px_height: Pixel Resolution Height\n",
        "- px_width: Pixel Resolution Width\n",
        "- ram: Random Access Memory in Megabytes\n",
        "- sc_h: Screen Height of mobile in cm\n",
        "- sc_w: Screen Width of mobile in cm\n",
        "- talk_time: longest time that a single battery charge will last when you are\n",
        "- three_g: Has 3G or not\n",
        "- touch_screen: Has touch screen or not\n",
        "- wifi: Has wifi or not\n",
        "\n",
        "<br>\n",
        "더 자세한 데이터 정보는 https://www.kaggle.com/iabhishekofficial/mobile-price-classification 에서 확인하시면 됩니다.\n"
      ]
    },
    {
      "cell_type": "code",
      "execution_count": null,
      "metadata": {
        "id": "pQeuUSpjPVkA"
      },
      "outputs": [],
      "source": [
        "import numpy as np\n",
        "import pandas as pd\n",
        "import seaborn as sns\n",
        "import matplotlib.pyplot as plt\n",
        "from matplotlib.colors import ListedColormap"
      ]
    },
    {
      "cell_type": "code",
      "execution_count": null,
      "metadata": {
        "id": "uTQZ-udHPdDE"
      },
      "outputs": [],
      "source": [
        "## 구글 코랩 사용하시는 분들만 이 코드 돌려주세요!\n",
        "from google.colab import files\n",
        "uploaded = files.upload()"
      ]
    },
    {
      "cell_type": "markdown",
      "metadata": {
        "id": "MjcbHIBIU46p"
      },
      "source": [
        "#### 2.1 mobile_price.csv 데이터 셋을 가져와서 처음 5개 행을 확인하시오."
      ]
    },
    {
      "cell_type": "code",
      "execution_count": null,
      "metadata": {
        "id": "as_RPgvTPh8p"
      },
      "outputs": [],
      "source": [
        ""
      ]
    },
    {
      "cell_type": "markdown",
      "metadata": {
        "id": "42oK33EWU9U_"
      },
      "source": [
        "#### 2.2 info() 함수를 이용해 데이터프레임의 기본 정보를 확인하시오."
      ]
    },
    {
      "cell_type": "code",
      "execution_count": null,
      "metadata": {
        "id": "ZAPs8aycPnbg"
      },
      "outputs": [],
      "source": [
        ""
      ]
    },
    {
      "cell_type": "markdown",
      "metadata": {
        "id": "rIK-ZD5ZVBFG"
      },
      "source": [
        "#### 2.3 describe() 함수를 이용해 Target 칼럼 'price_range'의 정보를 확인하시오."
      ]
    },
    {
      "cell_type": "code",
      "execution_count": null,
      "metadata": {
        "id": "AQ2l3X9lPplC"
      },
      "outputs": [],
      "source": [
        ""
      ]
    },
    {
      "cell_type": "markdown",
      "metadata": {
        "id": "6N5AqzreVIw4"
      },
      "source": [
        "#### 2.4 unique()함수를 이용해 Target 클래스의 종류를 확인하시오."
      ]
    },
    {
      "cell_type": "code",
      "execution_count": null,
      "metadata": {
        "id": "cyIW5b3MPrsH"
      },
      "outputs": [],
      "source": [
        ""
      ]
    },
    {
      "cell_type": "code",
      "execution_count": null,
      "metadata": {
        "id": "tpfa0paePtfT"
      },
      "outputs": [],
      "source": [
        "from sklearn.svm import SVC\n",
        "from sklearn.model_selection import train_test_split\n",
        "from sklearn.preprocessing import MinMaxScaler"
      ]
    },
    {
      "cell_type": "markdown",
      "metadata": {
        "id": "Zerrpx14VO4U"
      },
      "source": [
        "#### 2.6 데이터의 타깃 칼럼을 분리해, X_mobile과 y_mobile으로 저장하시오"
      ]
    },
    {
      "cell_type": "code",
      "execution_count": null,
      "metadata": {
        "id": "mS_XQXFwPvQS"
      },
      "outputs": [],
      "source": [
        ""
      ]
    },
    {
      "cell_type": "markdown",
      "metadata": {
        "id": "dkCepnxVVT-N"
      },
      "source": [
        "#### 2.7 피처에 대해 MinMaxScaler()를 이용해 스케일링을 진행하시오."
      ]
    },
    {
      "cell_type": "code",
      "execution_count": null,
      "metadata": {
        "id": "kM0YqoEKPxt9"
      },
      "outputs": [],
      "source": [
        ""
      ]
    },
    {
      "cell_type": "markdown",
      "metadata": {
        "id": "iiSwvXjsVXJo"
      },
      "source": [
        "#### 2.8 train_test_split를 사용하여 train 셋과 test 셋을 분리하시오\n",
        "- testset 의 size : 전체 데이터 셋의 20%\n",
        "- 각 set의 이름 : X_train, X_test, y_train, y_test\n",
        "- random_state = 42"
      ]
    },
    {
      "cell_type": "code",
      "execution_count": null,
      "metadata": {
        "id": "Rnj967U5P0Oi"
      },
      "outputs": [],
      "source": [
        ""
      ]
    },
    {
      "cell_type": "markdown",
      "metadata": {
        "id": "KcUfEKZQVfNA"
      },
      "source": [
        "#### 2.9 선형 SVC 모델 (kernel: linear, C: 20) 을 만들어 fit 시키시오."
      ]
    },
    {
      "cell_type": "code",
      "execution_count": null,
      "metadata": {
        "id": "a_O73kkXP2W4"
      },
      "outputs": [],
      "source": [
        ""
      ]
    },
    {
      "cell_type": "markdown",
      "metadata": {
        "id": "SqXnBE9EVp8z"
      },
      "source": [
        "#### 2.10 cross_val_score(cv=5)를 이용하여 CV점수를 출력하고 그 평균값을 구하시오."
      ]
    },
    {
      "cell_type": "code",
      "execution_count": null,
      "metadata": {
        "id": "-mAW8NEPP4lv"
      },
      "outputs": [],
      "source": [
        "from sklearn.model_selection import cross_val_score"
      ]
    },
    {
      "cell_type": "code",
      "execution_count": null,
      "metadata": {
        "id": "68CY2IDVP6pJ"
      },
      "outputs": [],
      "source": [
        ""
      ]
    },
    {
      "cell_type": "markdown",
      "metadata": {
        "id": "X35jjZ5AVxrf"
      },
      "source": [
        "#### 2.11 가우시안 RBF 커널을 사용해서 SVM 모델을 만들어 보시오. <br>그리고 ch2 p113~의 코드를 참고하여 GridSearchCV(cv=5)를 사용해서<br> Gamma와 C의 최적 파라미터를 찾고 best parameter, best score를 출력하시오.\n",
        "\n",
        "```python\n",
        "params = {\n",
        "    'gamma':[.1, .25, .5, 1],       \n",
        "    'C': [1,5,10,20,40,100]\n",
        "}\n",
        "```"
      ]
    },
    {
      "cell_type": "code",
      "execution_count": null,
      "metadata": {
        "id": "81tvVLKMP8UY"
      },
      "outputs": [],
      "source": [
        "import warnings\n",
        "warnings.filterwarnings(\"ignore\")\n",
        "rbf_svm=SVC(kernel=\"rbf\")"
      ]
    },
    {
      "cell_type": "code",
      "execution_count": null,
      "metadata": {
        "id": "mkAoRKptP-m4"
      },
      "outputs": [],
      "source": [
        ""
      ]
    },
    {
      "cell_type": "code",
      "execution_count": null,
      "metadata": {
        "id": "XTYznU0TQBAr"
      },
      "outputs": [],
      "source": [
        ""
      ]
    },
    {
      "cell_type": "markdown",
      "source": [
        "#### 2.12 위에서 구한 최적 파라미터를 rbf 모델에 적용하여 테스트 데이터에 대한 최종 예측을 출력하시오."
      ],
      "metadata": {
        "id": "txRdVs-llwP9"
      }
    },
    {
      "cell_type": "code",
      "execution_count": null,
      "metadata": {
        "id": "B4UiUSZBQIRv"
      },
      "outputs": [],
      "source": [
        ""
      ]
    }
  ],
  "metadata": {
    "colab": {
      "collapsed_sections": [],
      "name": "week2_복습과제_답제외(수정).ipynb",
      "provenance": []
    },
    "kernelspec": {
      "display_name": "Python 3",
      "language": "python",
      "name": "python3"
    },
    "language_info": {
      "codemirror_mode": {
        "name": "ipython",
        "version": 3
      },
      "file_extension": ".py",
      "mimetype": "text/x-python",
      "name": "python",
      "nbconvert_exporter": "python",
      "pygments_lexer": "ipython3",
      "version": "3.8.5"
    }
  },
  "nbformat": 4,
  "nbformat_minor": 0
}